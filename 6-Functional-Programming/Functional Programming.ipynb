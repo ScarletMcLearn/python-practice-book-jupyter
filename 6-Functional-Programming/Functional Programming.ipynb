{
 "cells": [
  {
   "cell_type": "code",
   "execution_count": null,
   "metadata": {
    "collapsed": true
   },
   "outputs": [],
   "source": [
    "# Problem 1:\n",
    "def product(a, b):\n",
    "    \n",
    "    def inner(a, b, acc):\n",
    "        if (b == 0):\n",
    "            return acc\n",
    "        return inner(a, b-1, acc+a)\n",
    "\n",
    "    return inner(a, b, 0)\n",
    "\n",
    "def product(a, b):\n",
    "    if (b == 1):\n",
    "        return a\n",
    "    return a + product(a, b-1)\n",
    "    \n",
    "product(23, 20)"
   ]
  },
  {
   "cell_type": "code",
   "execution_count": 83,
   "metadata": {
    "collapsed": false
   },
   "outputs": [
    {
     "data": {
      "text/plain": [
       "{'a': 1, 'b.x': 2, 'b.y': 3, 'c': 4}"
      ]
     },
     "execution_count": 83,
     "metadata": {},
     "output_type": "execute_result"
    }
   ],
   "source": [
    "# Problem 2:\n",
    "def flatten_dict(dct, key='', result=None):\n",
    "    if result is None:\n",
    "        result = {}\n",
    "        \n",
    "        \n",
    "    for k, v in dct.items():\n",
    "        new_key = \"{0}.{1}\".format(key, k) if key else k\n",
    "        if (isinstance(v, dict)):\n",
    "            flatten_dict(v, new_key, result)\n",
    "        else:\n",
    "            result[new_key] = v\n",
    "    \n",
    "    return result\n",
    "\n",
    "flatten_dict({'a': 1, 'b': {'x': 2, 'y': 3}, 'c': 4})\n",
    "        "
   ]
  },
  {
   "cell_type": "code",
   "execution_count": 84,
   "metadata": {
    "collapsed": false
   },
   "outputs": [
    {
     "name": "stdout",
     "output_type": "stream",
     "text": [
      "{'b': {'y': 3, 'x': 2, 'a': {'b': 10, 'c': {'d': 20}}}, 'a': 1, 'c': 4}\n"
     ]
    },
    {
     "data": {
      "text/plain": [
       "{'a': 1, 'b.a.b': 10, 'b.a.c.d': 20, 'b.x': 2, 'b.y': 3, 'c': 4}"
      ]
     },
     "execution_count": 84,
     "metadata": {},
     "output_type": "execute_result"
    }
   ],
   "source": [
    "# Problem 3:\n",
    "def unflatten_dict(dct, result=None):\n",
    "    if result is None:\n",
    "        result = {}\n",
    "        \n",
    "    for k, v in dct.items():\n",
    "        keys = k.split('.')\n",
    "        if len(keys) == 1:\n",
    "            result[k] = v\n",
    "        else:\n",
    "            new_key = {\".\".join(keys[1:]) : v}\n",
    "            if keys[0] in result.keys():\n",
    "                unflatten_dict(new_key, result[keys[0]])\n",
    "            else: \n",
    "                result[keys[0]] = {}\n",
    "                unflatten_dict(new_key, result[keys[0]])\n",
    "        \n",
    "    return result\n",
    "    \n",
    "r = unflatten_dict({'a': 1, 'b.x': 2, 'b.y': 3, 'b.a.b': 10, 'b.a.c.d': 20, 'c': 4})\n",
    "print(r)\n",
    "flatten_dict(r)"
   ]
  },
  {
   "cell_type": "code",
   "execution_count": null,
   "metadata": {
    "collapsed": true
   },
   "outputs": [],
   "source": [
    "# Problem 4:\n",
    "def treemap(fn, lst):\n",
    "    for i, v in enumerate(lst):\n",
    "        if (isinstance(v, list)):\n",
    "            treemap(fn, v)\n",
    "        else:\n",
    "            lst[i] = fn(v)\n",
    "    return lst\n",
    "\n",
    "treemap(lambda x: x*x, [1, 2, [3, 4, [5]]])"
   ]
  },
  {
   "cell_type": "code",
   "execution_count": 25,
   "metadata": {
    "collapsed": false
   },
   "outputs": [
    {
     "name": "stdout",
     "output_type": "stream",
     "text": [
      "[6, [[[9, [1, 5], 4]], 3], [2, 1]]\n"
     ]
    }
   ],
   "source": [
    "def tree_reverse(lst, res=None):\n",
    "    \n",
    "    if res is None:\n",
    "        res = []\n",
    "        \n",
    "    if (isinstance(lst, list)):\n",
    "        lst = lst[::-1]\n",
    "        for i in lst:\n",
    "            if (isinstance(i, list)):\n",
    "                res.append(tree_reverse(i))\n",
    "            else:\n",
    "                res.append(i)\n",
    "    return res\n",
    "\n",
    "# [6, [[5, 4], 3], [2, 1]]\n",
    "print(tree_reverse([[1, 2], [3, [[4, [5, 1], 9]]], 6]))"
   ]
  },
  {
   "cell_type": "code",
   "execution_count": 27,
   "metadata": {
    "collapsed": false
   },
   "outputs": [
    {
     "data": {
      "text/plain": [
       "'a.b'"
      ]
     },
     "execution_count": 27,
     "metadata": {},
     "output_type": "execute_result"
    }
   ],
   "source": [
    "\".\".join([\"a\", \"b\"])"
   ]
  },
  {
   "cell_type": "code",
   "execution_count": 64,
   "metadata": {
    "collapsed": false
   },
   "outputs": [
    {
     "name": "stdout",
     "output_type": "stream",
     "text": [
      "{'a': {'y': {'z': 10}, 'x': 5}}\n",
      "{'a': {'y': {'z': 100}, 'x': 10}}\n"
     ]
    }
   ],
   "source": [
    "def x(dct):\n",
    "    dct['x'] = 10\n",
    "    y(dct['y'])\n",
    "def y(dct):\n",
    "    dct['z'] = 100\n",
    "    \n",
    "d = {'a': {'x': 5, 'y': {'z': 10}}}\n",
    "print(d)\n",
    "x(d['a'])\n",
    "print(d)"
   ]
  },
  {
   "cell_type": "code",
   "execution_count": 95,
   "metadata": {
    "collapsed": false
   },
   "outputs": [
    {
     "data": {
      "text/plain": [
       "'{\"a\":{\"b\":3}, \"c\":\"firstname\"}'"
      ]
     },
     "execution_count": 95,
     "metadata": {},
     "output_type": "execute_result"
    }
   ],
   "source": [
    "def json_encode(data):\n",
    "    if isinstance(data, bool):\n",
    "        if data:\n",
    "            return \"true\"\n",
    "        else:\n",
    "            return \"false\"\n",
    "    elif isinstance(data, (int, float)):\n",
    "        return str(data)\n",
    "    elif isinstance(data, str):\n",
    "        return '\"' + escape_string(data) + '\"'\n",
    "    elif isinstance(data, list):\n",
    "        return \"[\" + \", \".join(json_encode(d) for d in data) + \"]\"\n",
    "    elif isinstance(data, dict):\n",
    "        return \"{\" + \", \".join( json_encode(k) + \":\" + json_encode(v) for k, v in data.items()) + \"}\"\n",
    "        \n",
    "    else:\n",
    "        raise TypeError(\"%s is not JSON serializable\" % repr(data))\n",
    "\n",
    "def escape_string(s):\n",
    "    \"\"\"Escapes double-quote, tab and new line characters in a string.\"\"\"\n",
    "    s = s.replace('\"', '\\\\\"')\n",
    "    s = s.replace(\"\\t\", \"\\\\t\")\n",
    "    s = s.replace(\"\\n\", \"\\\\n\")\n",
    "    return s\n",
    "\n",
    "json_encode({\"a\": { \"b\" : 3 }, \"c\" : \"firstname\"})"
   ]
  },
  {
   "cell_type": "code",
   "execution_count": 107,
   "metadata": {
    "collapsed": false
   },
   "outputs": [
    {
     "name": "stdout",
     "output_type": "stream",
     "text": [
      "files/\n",
      "|  a/\n",
      "|  |--abc.py\n",
      "|  |--c\n",
      "|  |--test.py\n",
      "|--a.txt\n",
      "|  b/\n",
      "|  |--b.py\n",
      "|  |--c.txt\n",
      "|--test.txt\n"
     ]
    }
   ],
   "source": [
    "import os\n",
    "\n",
    "def dirtree(path, root=\"\", depth=0):\n",
    "    print(\"|  \" * depth + path + '/')\n",
    "    full_path = os.path.join(root, path)\n",
    "    for f in os.listdir(full_path):\n",
    "        file_path = os.path.join(path, f)\n",
    "        if os.path.isdir(file_path):\n",
    "            dirtree(f, full_path, depth+1)\n",
    "        else:\n",
    "            print(\"|  \" * depth + \"|--\" + f)\n",
    "\n",
    "dirtree('files')"
   ]
  },
  {
   "cell_type": "code",
   "execution_count": 7,
   "metadata": {
    "collapsed": false
   },
   "outputs": [
    {
     "name": "stdout",
     "output_type": "stream",
     "text": [
      "3\n",
      "292\n",
      "6\n"
     ]
    }
   ],
   "source": [
    "def count_change(v, coins):\n",
    "    total = 0\n",
    "    \n",
    "    if (v == 0): \n",
    "        return 1\n",
    "    elif (v < 0):\n",
    "        return 0\n",
    "\n",
    "    for i, c in enumerate(coins):\n",
    "        total += count_change(v-c, coins[i:])\n",
    "    return total\n",
    "\n",
    "print(count_change(10, [1, 5]))\n",
    "print(count_change(100, [1, 5, 10, 25, 50]))\n",
    "print(count_change(10, [1, 2]))"
   ]
  },
  {
   "cell_type": "code",
   "execution_count": 19,
   "metadata": {
    "collapsed": false
   },
   "outputs": [
    {
     "data": {
      "text/plain": [
       "[[1, 2, 3], [1, 3, 2], [2, 1, 3], [2, 3, 1], [3, 1, 2], [3, 2, 1]]"
      ]
     },
     "execution_count": 19,
     "metadata": {},
     "output_type": "execute_result"
    }
   ],
   "source": [
    "def permute(lst, prepend=None, result=None):\n",
    "    if prepend is None:\n",
    "        prepend = []\n",
    "    \n",
    "    if result is None:\n",
    "        result = []\n",
    "        \n",
    "    if len(lst) == 1:\n",
    "        return result.append(prepend + lst)\n",
    "   \n",
    "    for i in range(len(lst)):\n",
    "        tmp = list(lst)\n",
    "        v = tmp[i]\n",
    "        del(tmp[i])\n",
    "        \n",
    "        l = prepend + [v]\n",
    "        permute(tmp, l, result)\n",
    "        \n",
    "    return result \n",
    "\n",
    "\n",
    "permute([1, 2, 3]) # [[1, 2, 3], [1, 3, 2], [2, 1, 3], [2, 3, 1], [3, 1, 2], [3, 2, 1]]"
   ]
  },
  {
   "cell_type": "code",
   "execution_count": 2,
   "metadata": {
    "collapsed": false
   },
   "outputs": [
    {
     "data": {
      "text/plain": [
       "3"
      ]
     },
     "execution_count": 2,
     "metadata": {},
     "output_type": "execute_result"
    }
   ],
   "source": [
    "# Higher Order Functions\n",
    "def fib(n):\n",
    "    if (n < 2):\n",
    "        return 1\n",
    "    else:\n",
    "        return fib(n-1) + fib(n-2)\n",
    "fib(3)"
   ]
  },
  {
   "cell_type": "code",
   "execution_count": 11,
   "metadata": {
    "collapsed": false
   },
   "outputs": [
    {
     "name": "stdout",
     "output_type": "stream",
     "text": [
      "g 2\n",
      "g 2\n",
      "g 2\n",
      "g 2\n",
      "g 2\n",
      "fib 2\n",
      "g 1\n",
      "g 1\n",
      "g 1\n",
      "g 1\n",
      "g 1\n",
      "fib 1\n",
      "return  1\n",
      "return  1\n",
      "return  1\n",
      "return  1\n",
      "return  1\n",
      "return  1\n",
      "g 0\n",
      "g 0\n",
      "g 0\n",
      "g 0\n",
      "g 0\n",
      "fib 0\n",
      "return  1\n",
      "return  1\n",
      "return  1\n",
      "return  1\n",
      "return  1\n",
      "return  1\n",
      "return  2\n",
      "return  2\n",
      "return  2\n",
      "return  2\n",
      "return  2\n",
      "return  2\n"
     ]
    },
    {
     "data": {
      "text/plain": [
       "2"
      ]
     },
     "execution_count": 11,
     "metadata": {},
     "output_type": "execute_result"
    }
   ],
   "source": [
    "def trace(f):\n",
    "    def g(x):\n",
    "        print(f.__name__, x)\n",
    "        value = f(x)\n",
    "        print('return ', repr(value))\n",
    "        return value\n",
    "    return g\n",
    "fib = trace(fib)\n",
    "fib(2)"
   ]
  },
  {
   "cell_type": "code",
   "execution_count": 50,
   "metadata": {
    "collapsed": false
   },
   "outputs": [],
   "source": [
    "def trace(f):\n",
    "    f.indent = 0\n",
    "    def g(x):\n",
    "        print('|  ' * f.indent + '|--', f.__name__, x)\n",
    "        f.indent += 1\n",
    "        value = f(x)\n",
    "        print('|  ' * f.indent + '|--', 'return', repr(value))\n",
    "        f.indent -= 1\n",
    "        return value\n",
    "    return g\n",
    "\n"
   ]
  },
  {
   "cell_type": "code",
   "execution_count": 61,
   "metadata": {
    "collapsed": false
   },
   "outputs": [
    {
     "data": {
      "text/plain": [
       "8"
      ]
     },
     "execution_count": 61,
     "metadata": {},
     "output_type": "execute_result"
    }
   ],
   "source": [
    "def memoize(f):\n",
    "    cache = {}\n",
    "    def g(x):\n",
    "        if x not in cache:\n",
    "            cache[x] = f(x)\n",
    "        return cache[x]\n",
    "    return g\n",
    "\n",
    "def fib(n):\n",
    "    if (n < 2):\n",
    "        return 1\n",
    "    else:\n",
    "        return fib(n-1) + fib(n-2)\n",
    "\n",
    "fib = memoize(fib)\n",
    "fib(5)"
   ]
  },
  {
   "cell_type": "code",
   "execution_count": 67,
   "metadata": {
    "collapsed": false
   },
   "outputs": [
    {
     "name": "stdout",
     "output_type": "stream",
     "text": [
      "0.0002219676971435547\n"
     ]
    }
   ],
   "source": [
    "import time\n",
    "\n",
    "def profile(fn):\n",
    "    def g(x):\n",
    "        start = time.time()\n",
    "        fn(x)\n",
    "        end = time.time()\n",
    "        \n",
    "        print(end - start)\n",
    "    return g\n",
    "\n",
    "f = profile(fib)\n",
    "f(300)"
   ]
  },
  {
   "cell_type": "code",
   "execution_count": 68,
   "metadata": {
    "collapsed": false
   },
   "outputs": [
    {
     "data": {
      "text/plain": [
       "[1, 4, 9]"
      ]
     },
     "execution_count": 68,
     "metadata": {},
     "output_type": "execute_result"
    }
   ],
   "source": [
    "def square(x): return x*x\n",
    "\n",
    "def vectorize(fn):\n",
    "    def g(lst):\n",
    "        return [fn(v) for v in lst]\n",
    "    return g\n",
    "\n",
    "f = vectorize(square)\n",
    "print(f([1, 2, 3]))\n",
    "g = vectorize(len)\n",
    "print(g([\"hello\", \"world\"]))"
   ]
  },
  {
   "cell_type": "code",
   "execution_count": null,
   "metadata": {
    "collapsed": true
   },
   "outputs": [],
   "source": []
  },
  {
   "cell_type": "code",
   "execution_count": null,
   "metadata": {
    "collapsed": true
   },
   "outputs": [],
   "source": []
  }
 ],
 "metadata": {
  "kernelspec": {
   "display_name": "Python 3",
   "language": "python",
   "name": "python3"
  },
  "language_info": {
   "codemirror_mode": {
    "name": "ipython",
    "version": 3
   },
   "file_extension": ".py",
   "mimetype": "text/x-python",
   "name": "python",
   "nbconvert_exporter": "python",
   "pygments_lexer": "ipython3",
   "version": "3.4.3"
  }
 },
 "nbformat": 4,
 "nbformat_minor": 1
}
