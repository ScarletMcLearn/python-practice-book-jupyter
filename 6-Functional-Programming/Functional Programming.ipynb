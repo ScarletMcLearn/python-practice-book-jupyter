{
 "cells": [
  {
   "cell_type": "code",
   "execution_count": null,
   "metadata": {
    "collapsed": true
   },
   "outputs": [],
   "source": [
    "# Problem 1:\n",
    "def product(a, b):\n",
    "    \n",
    "    def inner(a, b, acc):\n",
    "        if (b == 0):\n",
    "            return acc\n",
    "        return inner(a, b-1, acc+a)\n",
    "\n",
    "    return inner(a, b, 0)\n",
    "\n",
    "def product(a, b):\n",
    "    if (b == 1):\n",
    "        return a\n",
    "    return a + product(a, b-1)\n",
    "    \n",
    "product(23, 20)"
   ]
  },
  {
   "cell_type": "code",
   "execution_count": 83,
   "metadata": {
    "collapsed": false
   },
   "outputs": [
    {
     "data": {
      "text/plain": [
       "{'a': 1, 'b.x': 2, 'b.y': 3, 'c': 4}"
      ]
     },
     "execution_count": 83,
     "metadata": {},
     "output_type": "execute_result"
    }
   ],
   "source": [
    "# Problem 2:\n",
    "def flatten_dict(dct, key='', result=None):\n",
    "    if result is None:\n",
    "        result = {}\n",
    "        \n",
    "        \n",
    "    for k, v in dct.items():\n",
    "        new_key = \"{0}.{1}\".format(key, k) if key else k\n",
    "        if (isinstance(v, dict)):\n",
    "            flatten_dict(v, new_key, result)\n",
    "        else:\n",
    "            result[new_key] = v\n",
    "    \n",
    "    return result\n",
    "\n",
    "flatten_dict({'a': 1, 'b': {'x': 2, 'y': 3}, 'c': 4})\n",
    "        "
   ]
  },
  {
   "cell_type": "code",
   "execution_count": 84,
   "metadata": {
    "collapsed": false
   },
   "outputs": [
    {
     "name": "stdout",
     "output_type": "stream",
     "text": [
      "{'b': {'y': 3, 'x': 2, 'a': {'b': 10, 'c': {'d': 20}}}, 'a': 1, 'c': 4}\n"
     ]
    },
    {
     "data": {
      "text/plain": [
       "{'a': 1, 'b.a.b': 10, 'b.a.c.d': 20, 'b.x': 2, 'b.y': 3, 'c': 4}"
      ]
     },
     "execution_count": 84,
     "metadata": {},
     "output_type": "execute_result"
    }
   ],
   "source": [
    "# Problem 3:\n",
    "def unflatten_dict(dct, result=None):\n",
    "    if result is None:\n",
    "        result = {}\n",
    "        \n",
    "    for k, v in dct.items():\n",
    "        keys = k.split('.')\n",
    "        if len(keys) == 1:\n",
    "            result[k] = v\n",
    "        else:\n",
    "            new_key = {\".\".join(keys[1:]) : v}\n",
    "            if keys[0] in result.keys():\n",
    "                unflatten_dict(new_key, result[keys[0]])\n",
    "            else: \n",
    "                result[keys[0]] = {}\n",
    "                unflatten_dict(new_key, result[keys[0]])\n",
    "        \n",
    "    return result\n",
    "    \n",
    "r = unflatten_dict({'a': 1, 'b.x': 2, 'b.y': 3, 'b.a.b': 10, 'b.a.c.d': 20, 'c': 4})\n",
    "print(r)\n",
    "flatten_dict(r)"
   ]
  },
  {
   "cell_type": "code",
   "execution_count": null,
   "metadata": {
    "collapsed": true
   },
   "outputs": [],
   "source": [
    "# Problem 4:\n",
    "def treemap(fn, lst):\n",
    "    for i, v in enumerate(lst):\n",
    "        if (isinstance(v, list)):\n",
    "            treemap(fn, v)\n",
    "        else:\n",
    "            lst[i] = fn(v)\n",
    "    return lst\n",
    "\n",
    "treemap(lambda x: x*x, [1, 2, [3, 4, [5]]])"
   ]
  },
  {
   "cell_type": "code",
   "execution_count": 25,
   "metadata": {
    "collapsed": false
   },
   "outputs": [
    {
     "name": "stdout",
     "output_type": "stream",
     "text": [
      "[6, [[[9, [1, 5], 4]], 3], [2, 1]]\n"
     ]
    }
   ],
   "source": [
    "def tree_reverse(lst, res=None):\n",
    "    \n",
    "    if res is None:\n",
    "        res = []\n",
    "        \n",
    "    if (isinstance(lst, list)):\n",
    "        lst = lst[::-1]\n",
    "        for i in lst:\n",
    "            if (isinstance(i, list)):\n",
    "                res.append(tree_reverse(i))\n",
    "            else:\n",
    "                res.append(i)\n",
    "    return res\n",
    "\n",
    "# [6, [[5, 4], 3], [2, 1]]\n",
    "print(tree_reverse([[1, 2], [3, [[4, [5, 1], 9]]], 6]))"
   ]
  },
  {
   "cell_type": "code",
   "execution_count": 27,
   "metadata": {
    "collapsed": false
   },
   "outputs": [
    {
     "data": {
      "text/plain": [
       "'a.b'"
      ]
     },
     "execution_count": 27,
     "metadata": {},
     "output_type": "execute_result"
    }
   ],
   "source": [
    "\".\".join([\"a\", \"b\"])"
   ]
  },
  {
   "cell_type": "code",
   "execution_count": 64,
   "metadata": {
    "collapsed": false
   },
   "outputs": [
    {
     "name": "stdout",
     "output_type": "stream",
     "text": [
      "{'a': {'y': {'z': 10}, 'x': 5}}\n",
      "{'a': {'y': {'z': 100}, 'x': 10}}\n"
     ]
    }
   ],
   "source": [
    "def x(dct):\n",
    "    dct['x'] = 10\n",
    "    y(dct['y'])\n",
    "def y(dct):\n",
    "    dct['z'] = 100\n",
    "    \n",
    "d = {'a': {'x': 5, 'y': {'z': 10}}}\n",
    "print(d)\n",
    "x(d['a'])\n",
    "print(d)"
   ]
  },
  {
   "cell_type": "code",
   "execution_count": 95,
   "metadata": {
    "collapsed": false
   },
   "outputs": [
    {
     "data": {
      "text/plain": [
       "'{\"a\":{\"b\":3}, \"c\":\"firstname\"}'"
      ]
     },
     "execution_count": 95,
     "metadata": {},
     "output_type": "execute_result"
    }
   ],
   "source": [
    "def json_encode(data):\n",
    "    if isinstance(data, bool):\n",
    "        if data:\n",
    "            return \"true\"\n",
    "        else:\n",
    "            return \"false\"\n",
    "    elif isinstance(data, (int, float)):\n",
    "        return str(data)\n",
    "    elif isinstance(data, str):\n",
    "        return '\"' + escape_string(data) + '\"'\n",
    "    elif isinstance(data, list):\n",
    "        return \"[\" + \", \".join(json_encode(d) for d in data) + \"]\"\n",
    "    elif isinstance(data, dict):\n",
    "        return \"{\" + \", \".join( json_encode(k) + \":\" + json_encode(v) for k, v in data.items()) + \"}\"\n",
    "        \n",
    "    else:\n",
    "        raise TypeError(\"%s is not JSON serializable\" % repr(data))\n",
    "\n",
    "def escape_string(s):\n",
    "    \"\"\"Escapes double-quote, tab and new line characters in a string.\"\"\"\n",
    "    s = s.replace('\"', '\\\\\"')\n",
    "    s = s.replace(\"\\t\", \"\\\\t\")\n",
    "    s = s.replace(\"\\n\", \"\\\\n\")\n",
    "    return s\n",
    "\n",
    "json_encode({\"a\": { \"b\" : 3 }, \"c\" : \"firstname\"})"
   ]
  },
  {
   "cell_type": "code",
   "execution_count": 107,
   "metadata": {
    "collapsed": false
   },
   "outputs": [
    {
     "name": "stdout",
     "output_type": "stream",
     "text": [
      "files/\n",
      "|  a/\n",
      "|  |--abc.py\n",
      "|  |--c\n",
      "|  |--test.py\n",
      "|--a.txt\n",
      "|  b/\n",
      "|  |--b.py\n",
      "|  |--c.txt\n",
      "|--test.txt\n"
     ]
    }
   ],
   "source": [
    "import os\n",
    "\n",
    "def dirtree(path, root=\"\", depth=0):\n",
    "    print(\"|  \" * depth + path + '/')\n",
    "    full_path = os.path.join(root, path)\n",
    "    for f in os.listdir(full_path):\n",
    "        file_path = os.path.join(path, f)\n",
    "        if os.path.isdir(file_path):\n",
    "            dirtree(f, full_path, depth+1)\n",
    "        else:\n",
    "            print(\"|  \" * depth + \"|--\" + f)\n",
    "\n",
    "dirtree('files')"
   ]
  },
  {
   "cell_type": "code",
   "execution_count": 7,
   "metadata": {
    "collapsed": false
   },
   "outputs": [
    {
     "name": "stdout",
     "output_type": "stream",
     "text": [
      "3\n",
      "292\n",
      "6\n"
     ]
    }
   ],
   "source": [
    "def count_change(v, coins):\n",
    "    total = 0\n",
    "    \n",
    "    if (v == 0): \n",
    "        return 1\n",
    "    elif (v < 0):\n",
    "        return 0\n",
    "\n",
    "    for i, c in enumerate(coins):\n",
    "        total += count_change(v-c, coins[i:])\n",
    "    return total\n",
    "\n",
    "print(count_change(10, [1, 5]))\n",
    "print(count_change(100, [1, 5, 10, 25, 50]))\n",
    "print(count_change(10, [1, 2]))"
   ]
  },
  {
   "cell_type": "code",
   "execution_count": 9,
   "metadata": {
    "collapsed": false
   },
   "outputs": [
    {
     "data": {
      "text/plain": [
       "[[[1]], [[2]], [[3]]]"
      ]
     },
     "execution_count": 9,
     "metadata": {},
     "output_type": "execute_result"
    }
   ],
   "source": [
    "def permute(lst, prepend=None):\n",
    "    if prepend is None:\n",
    "        prepend = []\n",
    "       \n",
    "    result = []\n",
    "    for i in range(len(lst)):\n",
    "        tmp = list(lst)\n",
    "        v = [tmp[i]]\n",
    "        del(tmp[i])\n",
    "        \n",
    "        l = prepend + [v] \n",
    "        permute(tmp, l)\n",
    "        result.append(l)\n",
    "        \n",
    "    return result\n",
    "        \n",
    "permute([1, 2, 3])"
   ]
  },
  {
   "cell_type": "code",
   "execution_count": 8,
   "metadata": {
    "collapsed": false
   },
   "outputs": [
    {
     "data": {
      "text/plain": [
       "[1, 2]"
      ]
     },
     "execution_count": 8,
     "metadata": {},
     "output_type": "execute_result"
    }
   ],
   "source": []
  },
  {
   "cell_type": "code",
   "execution_count": null,
   "metadata": {
    "collapsed": true
   },
   "outputs": [],
   "source": []
  }
 ],
 "metadata": {
  "kernelspec": {
   "display_name": "Python 3",
   "language": "python",
   "name": "python3"
  },
  "language_info": {
   "codemirror_mode": {
    "name": "ipython",
    "version": 3
   },
   "file_extension": ".py",
   "mimetype": "text/x-python",
   "name": "python",
   "nbconvert_exporter": "python",
   "pygments_lexer": "ipython3",
   "version": "3.4.3"
  }
 },
 "nbformat": 4,
 "nbformat_minor": 1
}
