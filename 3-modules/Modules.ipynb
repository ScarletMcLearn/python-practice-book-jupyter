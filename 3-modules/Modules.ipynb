{
 "cells": [
  {
   "cell_type": "code",
   "execution_count": 12,
   "metadata": {
    "collapsed": false
   },
   "outputs": [
    {
     "data": {
      "text/plain": [
       "['.ipynb_checkpoints',\n",
       " 'a.csv',\n",
       " 'b.csv',\n",
       " 'Modules.ipynb',\n",
       " 'she.txt',\n",
       " 'Working With Data.ipynb']"
      ]
     },
     "execution_count": 12,
     "metadata": {},
     "output_type": "execute_result"
    }
   ],
   "source": [
    "import os\n",
    "\n",
    "def list_files(path):\n",
    "    return os.listdir(path)\n",
    "list_files('.')"
   ]
  },
  {
   "cell_type": "code",
   "execution_count": 15,
   "metadata": {
    "collapsed": false
   },
   "outputs": [
    {
     "data": {
      "text/plain": [
       "{'csv': 2, 'ipynb': 2, 'ipynb_checkpoints': 1, 'txt': 1}"
      ]
     },
     "execution_count": 15,
     "metadata": {},
     "output_type": "execute_result"
    }
   ],
   "source": [
    "def extcount(path):\n",
    "    files = [f.split('.') for f in list_files(path)]\n",
    "    res = {}\n",
    "    for en in files:\n",
    "        res[en[1]] = res.get(en[1], 0) + 1\n",
    "    return res\n",
    "\n",
    "extcount('.')\n",
    "    "
   ]
  },
  {
   "cell_type": "code",
   "execution_count": 10,
   "metadata": {
    "collapsed": false
   },
   "outputs": [
    {
     "name": "stdout",
     "output_type": "stream",
     "text": [
      ".ipynb_checkpoints\t102\t1477970478.0\n",
      "Modules.ipynb\t2253\t1477973732.0\n"
     ]
    }
   ],
   "source": [
    "# Problem: 3\n",
    "path = '.'\n",
    "for name in os.listdir(path):\n",
    "    st = os.stat(os.path.join(path, name))\n",
    "    print \"{0}\\t{1}\\t{2}\".format(name, st.st_size, st.st_mtime)"
   ]
  },
  {
   "cell_type": "code",
   "execution_count": 42,
   "metadata": {
    "collapsed": false
   },
   "outputs": [
    {
     "name": "stdout",
     "output_type": "stream",
     "text": [
      "|-- dir\n",
      "|-- a.txt\n",
      "|-- b.txt\n",
      "|-- c.txt\n",
      "|-- code\n",
      "|  |-- a.txt\n",
      "|  |-- assets\n",
      "|  |  |-- a.css\n",
      "|  |  \\-- b.css\n",
      "|  |-- b.txt\n",
      "|  |-- main.py\n",
      "|  \\-- support.py\n",
      "\\-- d.md\n"
     ]
    }
   ],
   "source": [
    "# Problem 4:\n",
    "# Using os.stat\n",
    "from stat import *\n",
    "\n",
    "root = './dir'\n",
    "def r_print_files(path, depth=0):\n",
    "    p = \"|  \" * (depth-1)\n",
    "    print \"{0}|-- {1}\".format(p, path.split('/')[-1])\n",
    "    files = os.listdir(path)\n",
    "    for index, name in enumerate(files):\n",
    "        full_path = os.path.join(path, name)\n",
    "        statfile = os.stat(full_path)\n",
    "        if (S_ISDIR(statfile.st_mode)):\n",
    "            r_print_files(full_path, depth+1)\n",
    "            continue\n",
    "            \n",
    "        prep = \"|  \" * depth\n",
    "        delim = \"|\" if index <> len(files)-1 else \"\\\\\"\n",
    "        print \"{0}{1}-- {2}\".format(prep, delim, name)\n",
    "        \n",
    "r_print_files(root)"
   ]
  },
  {
   "cell_type": "code",
   "execution_count": 67,
   "metadata": {
    "collapsed": false
   },
   "outputs": [
    {
     "name": "stdout",
     "output_type": "stream",
     "text": [
      "Server: nginx\r\n",
      "Content-Type: text/html\r\n",
      "Last-Modified: Fri, 23 Sep 2016 02:08:08 GMT\r\n",
      "ETag: \"57e48e88-4e59\"\r\n",
      "X-Clacks-Overhead: GNU Terry Pratchett\r\n",
      "Strict-Transport-Security: max-age=315360000; includeSubDomains; preload\r\n",
      "Content-Length: 20057\r\n",
      "Accept-Ranges: bytes\r\n",
      "Date: Tue, 01 Nov 2016 12:00:41 GMT\r\n",
      "Via: 1.1 varnish\r\n",
      "Age: 27663\r\n",
      "Connection: close\r\n",
      "X-Served-By: cache-hkg6823-HKG\r\n",
      "X-Cache: HIT\r\n",
      "X-Cache-Hits: 2\r\n",
      "\n",
      "\n"
     ]
    }
   ],
   "source": [
    "# urllib\n",
    "import urllib2\n",
    "\n",
    "root = 'wget'\n",
    "response = urllib2.urlopen('http://docs.python.org/tutorial/interpreter.html')\n",
    "print response.headers\n",
    "print response.headers.get('Content-Disposition', '')\n",
    "content = response.read()\n",
    "with open(os.path.join(root, 'index.html'), 'w') as f:\n",
    "    f.write(content)"
   ]
  },
  {
   "cell_type": "code",
   "execution_count": 83,
   "metadata": {
    "collapsed": false
   },
   "outputs": [],
   "source": [
    "# Problem 6\n",
    "import urllib2\n",
    "import re\n",
    "\n",
    "root = 'wget'\n",
    "response = urllib2.urlopen('http://docs.python.org/tutorial/interpreter.html')\n",
    "\n",
    "content = response.read()\n",
    "content = re.sub(r\"<[a-zA-Z/]*>\", '', content)\n",
    "content = re.sub(r\" +\", ' ', content)\n",
    "with open(os.path.join(root, 'index-re.html'), 'w') as f:\n",
    "    f.write(content)"
   ]
  },
  {
   "cell_type": "code",
   "execution_count": 82,
   "metadata": {
    "collapsed": false
   },
   "outputs": [],
   "source": [
    "import re\n",
    "\n",
    "content = \"<body> hello </body> <span> world </span>\"\n",
    "content = re.sub(r\"<[a-zA-Z/]*>\", '', content)\n",
    "content = re.sub(r\" +\", ' ', content)"
   ]
  },
  {
   "cell_type": "code",
   "execution_count": 91,
   "metadata": {
    "collapsed": false
   },
   "outputs": [
    {
     "name": "stdout",
     "output_type": "stream",
     "text": [
      "hello-world\n",
      "hello-world\n"
     ]
    }
   ],
   "source": [
    "# Problem 7\n",
    "import re\n",
    "\n",
    "def make_slug(val):\n",
    "    \n",
    "    res = re.sub(r\"[^a-z\\s]+\", '', val) # remove non alphabetical chars\n",
    "    res = re.sub(r\"\\s+\", \"-\", res) # change whitespace to a single dash value\n",
    "    return res\n",
    "\n",
    "print make_slug(\"hello world\")\n",
    "print make_slug(\"hello -- world!\")"
   ]
  },
  {
   "cell_type": "code",
   "execution_count": 102,
   "metadata": {
    "collapsed": false
   },
   "outputs": [
    {
     "name": "stdout",
     "output_type": "stream",
     "text": [
      "['../genindex.html\" title=\"General Index', '../py-modindex.html\" title=\"Python Module Index', 'introduction.html\" title=\"3. An Informal Introduction to Python', 'appetite.html\" title=\"1. Whetting Your Appetite', 'https://www.python.org/', '../index.html', 'index.html\" accesskey=\"U', '../contents.html', 'appetite.html', 'introduction.html', '../bugs.html', '../_sources/tutorial/interpreter.txt', '../genindex.html\" title=\"General Index', '../py-modindex.html\" title=\"Python Module Index', 'introduction.html\" title=\"3. An Informal Introduction to Python', 'appetite.html\" title=\"1. Whetting Your Appetite', 'https://www.python.org/', '../index.html', 'index.html', '../copyright.html', 'https://www.python.org/psf/donations/', '../bugs.html', 'http://sphinx.pocoo.org/']\n"
     ]
    }
   ],
   "source": [
    "# Problem 8\n",
    "import re\n",
    "\n",
    "response = urllib2.urlopen('http://docs.python.org/tutorial/interpreter.html')\n",
    "content = response.read()\n",
    "content = re.findall(r\"<a href=\\\"(.+)\\\"\", content)\n",
    "print content"
   ]
  },
  {
   "cell_type": "code",
   "execution_count": 99,
   "metadata": {
    "collapsed": false
   },
   "outputs": [
    {
     "name": "stdout",
     "output_type": "stream",
     "text": [
      "['http://python.org']\n"
     ]
    }
   ],
   "source": [
    "import re\n",
    "\n",
    "content = '<a href=\"http://python.org\"> Go to Python </a>'\n",
    "print re.findall(r\"href=\\\"(.*)\\\"\", content)"
   ]
  },
  {
   "cell_type": "code",
   "execution_count": 1,
   "metadata": {
    "collapsed": false
   },
   "outputs": [],
   "source": [
    "# ^(\\d\\s)?\\(?(\\d{3})\\)?-?\\s?\\d{3}\\s?-?\\d{4}\n"
   ]
  },
  {
   "cell_type": "code",
   "execution_count": 8,
   "metadata": {
    "collapsed": false
   },
   "outputs": [
    {
     "name": "stdout",
     "output_type": "stream",
     "text": [
      "125.212.120.173\n"
     ]
    }
   ],
   "source": [
    "import json\n",
    "import urllib2\n",
    "\n",
    "response = urllib2.urlopen(\"http://httpbin.org/get\")\n",
    "js = json.loads(response.read())\n",
    "print js['origin']"
   ]
  },
  {
   "cell_type": "code",
   "execution_count": 18,
   "metadata": {
    "collapsed": false
   },
   "outputs": [
    {
     "name": "stdout",
     "output_type": "stream",
     "text": [
      "FILE:  zip/a.txt\n"
     ]
    }
   ],
   "source": [
    "import zipfile\n",
    "\n",
    "zf = zipfile.ZipFile('foo.zip', 'w')\n",
    "zf.write('./zip/a.txt')\n",
    "for name in zf.namelist():\n",
    "    print \"FILE: \", name\n",
    "zf.extractall()"
   ]
  },
  {
   "cell_type": "code",
   "execution_count": 37,
   "metadata": {
    "collapsed": false
   },
   "outputs": [
    {
     "name": "stdout",
     "output_type": "stream",
     "text": [
      "Help on module os\n",
      "\n",
      "\n",
      "\n",
      "DESCRIPTION\n",
      "\n",
      "OS routines for NT or Posix depending on what system we're on.\n",
      "\n",
      "This exports:\n",
      "  - all functions from posix, nt, os2, or ce, e.g. unlink, stat, etc.\n",
      "  - os.path is one of the modules posixpath, or ntpath\n",
      "  - os.name is 'posix', 'nt', 'os2', 'ce' or 'riscos'\n",
      "  - os.curdir is a string representing the current directory ('.' or ':')\n",
      "  - os.pardir is a string representing the parent directory ('..' or '::')\n",
      "  - os.sep is the (or a most common) pathname separator ('/' or ':' or '\\\\')\n",
      "  - os.extsep is the extension separator ('.' or '/')\n",
      "  - os.altsep is the alternate pathname separator (None or '/')\n",
      "  - os.pathsep is the component separator used in $PATH etc\n",
      "  - os.linesep is the line separator in text files ('\\r' or '\\n' or '\\r\\n')\n",
      "  - os.defpath is the default search path for executables\n",
      "  - os.devnull is the file path of the null device ('/dev/null', etc.)\n",
      "\n",
      "Programs that import and use 'os' stand a better chance of being\n",
      "portable between different platforms.  Of course, they must then\n",
      "only use functions that are defined by all platforms (e.g., unlink\n",
      "and opendir), and leave all pathname manipulation to os.path\n",
      "(e.g., split and join).\n",
      "\n",
      "FUNCTIONS\n",
      "\n",
      "None\n",
      "\n",
      "\n",
      "None\n",
      "\n",
      "\n",
      "None\n",
      "\n",
      "\n",
      "None\n",
      "\n",
      "\n",
      "None\n",
      "\n",
      "\n",
      "None\n",
      "\n",
      "\n",
      "None\n",
      "\n",
      "\n",
      "None\n",
      "\n",
      "\n",
      "execl(file, *args)\n",
      "\n",
      "    Execute the executable file with argument list args, replacing the\n",
      "    current process. \n",
      "\n",
      "\n",
      "execle(file, *args, env)\n",
      "\n",
      "    Execute the executable file with argument list args and\n",
      "    environment env, replacing the current process. \n",
      "\n",
      "\n",
      "execlp(file, *args)\n",
      "\n",
      "    Execute the executable file (which is searched for along $PATH)\n",
      "    with argument list args, replacing the current process. \n",
      "\n",
      "\n",
      "execlpe(file, *args, env)\n",
      "\n",
      "    Execute the executable file (which is searched for along $PATH)\n",
      "    with argument list args and environment env, replacing the current\n",
      "    process. \n",
      "\n",
      "\n",
      "execvp(file, args)\n",
      "\n",
      "    Execute the executable file (which is searched for along $PATH)\n",
      "    with argument list args, replacing the current process.\n",
      "    args may be a list or tuple of strings. \n",
      "\n",
      "\n",
      "execvpe(file, args, env)\n",
      "\n",
      "    Execute the executable file (which is searched for along $PATH)\n",
      "    with argument list args and environment env , replacing the\n",
      "    current process.\n",
      "    args may be a list or tuple of strings. \n",
      "\n",
      "\n",
      "Get an environment variable, return None if it doesn't exist.\n",
      "    The optional second argument can specify an alternate default.\n",
      "\n",
      "\n",
      "makedirs(path [, mode=0777])\n",
      "\n",
      "    Super-mkdir; create a leaf directory and all intermediate ones.\n",
      "    Works like mkdir, except that any intermediate path segment (not\n",
      "    just the rightmost) will be created if it does not exist.  This is\n",
      "    recursive.\n",
      "\n",
      "    \n",
      "\n",
      "\n",
      "Execute the shell command 'cmd' in a sub-process.  On UNIX, 'cmd'\n",
      "            may be a sequence, in which case arguments will be passed directly to\n",
      "            the program without shell intervention (as with os.spawnv()).  If 'cmd'\n",
      "            is a string it will be passed to the shell (as with os.system()). If\n",
      "            'bufsize' is specified, it sets the buffer size for the I/O pipes.  The\n",
      "            file objects (child_stdin, child_stdout) are returned.\n",
      "\n",
      "\n",
      "Execute the shell command 'cmd' in a sub-process.  On UNIX, 'cmd'\n",
      "            may be a sequence, in which case arguments will be passed directly to\n",
      "            the program without shell intervention (as with os.spawnv()).  If 'cmd'\n",
      "            is a string it will be passed to the shell (as with os.system()). If\n",
      "            'bufsize' is specified, it sets the buffer size for the I/O pipes.  The\n",
      "            file objects (child_stdin, child_stdout, child_stderr) are returned.\n",
      "\n",
      "\n",
      "Execute the shell command 'cmd' in a sub-process.  On UNIX, 'cmd'\n",
      "            may be a sequence, in which case arguments will be passed directly to\n",
      "            the program without shell intervention (as with os.spawnv()).  If 'cmd'\n",
      "            is a string it will be passed to the shell (as with os.system()). If\n",
      "            'bufsize' is specified, it sets the buffer size for the I/O pipes.  The\n",
      "            file objects (child_stdin, child_stdout_stderr) are returned.\n",
      "\n",
      "\n",
      "removedirs(path)\n",
      "\n",
      "    Super-rmdir; remove a leaf directory and all empty intermediate\n",
      "    ones.  Works like rmdir except that, if the leaf directory is\n",
      "    successfully removed, directories corresponding to rightmost path\n",
      "    segments will be pruned away until either the whole path is\n",
      "    consumed or an error occurs.  Errors during this latter phase are\n",
      "    ignored -- they generally mean that a directory was not empty.\n",
      "\n",
      "    \n",
      "\n",
      "\n",
      "renames(old, new)\n",
      "\n",
      "    Super-rename; create directories as necessary and delete any left\n",
      "    empty.  Works like rename, except creation of any intermediate\n",
      "    directories needed to make the new pathname good is attempted\n",
      "    first.  After the rename, directories corresponding to rightmost\n",
      "    path segments of the old name will be pruned until either the\n",
      "    whole path is consumed or a nonempty directory is found.\n",
      "\n",
      "    Note: this function can fail with the new directory structure made\n",
      "    if you lack permissions needed to unlink the leaf directory or\n",
      "    file.\n",
      "\n",
      "    \n",
      "\n",
      "\n",
      "spawnl(mode, file, *args) -> integer\n",
      "\n",
      "Execute file with arguments from args in a subprocess.\n",
      "If mode == P_NOWAIT return the pid of the process.\n",
      "If mode == P_WAIT return the process's exit code if it exits normally;\n",
      "otherwise return -SIG, where SIG is the signal that killed it. \n",
      "\n",
      "\n",
      "spawnle(mode, file, *args, env) -> integer\n",
      "\n",
      "Execute file with arguments from args in a subprocess with the\n",
      "supplied environment.\n",
      "If mode == P_NOWAIT return the pid of the process.\n",
      "If mode == P_WAIT return the process's exit code if it exits normally;\n",
      "otherwise return -SIG, where SIG is the signal that killed it. \n",
      "\n",
      "\n",
      "spawnlp(mode, file, *args) -> integer\n",
      "\n",
      "Execute file (which is looked for along $PATH) with arguments from\n",
      "args in a subprocess with the supplied environment.\n",
      "If mode == P_NOWAIT return the pid of the process.\n",
      "If mode == P_WAIT return the process's exit code if it exits normally;\n",
      "otherwise return -SIG, where SIG is the signal that killed it. \n",
      "\n",
      "\n",
      "spawnlpe(mode, file, *args, env) -> integer\n",
      "\n",
      "Execute file (which is looked for along $PATH) with arguments from\n",
      "args in a subprocess with the supplied environment.\n",
      "If mode == P_NOWAIT return the pid of the process.\n",
      "If mode == P_WAIT return the process's exit code if it exits normally;\n",
      "otherwise return -SIG, where SIG is the signal that killed it. \n",
      "\n",
      "\n",
      "spawnv(mode, file, args) -> integer\n",
      "\n",
      "Execute file with arguments from args in a subprocess.\n",
      "If mode == P_NOWAIT return the pid of the process.\n",
      "If mode == P_WAIT return the process's exit code if it exits normally;\n",
      "otherwise return -SIG, where SIG is the signal that killed it. \n",
      "\n",
      "\n",
      "spawnve(mode, file, args, env) -> integer\n",
      "\n",
      "Execute file with arguments from args in a subprocess with the\n",
      "specified environment.\n",
      "If mode == P_NOWAIT return the pid of the process.\n",
      "If mode == P_WAIT return the process's exit code if it exits normally;\n",
      "otherwise return -SIG, where SIG is the signal that killed it. \n",
      "\n",
      "\n",
      "spawnvp(mode, file, args) -> integer\n",
      "\n",
      "Execute file (which is looked for along $PATH) with arguments from\n",
      "args in a subprocess.\n",
      "If mode == P_NOWAIT return the pid of the process.\n",
      "If mode == P_WAIT return the process's exit code if it exits normally;\n",
      "otherwise return -SIG, where SIG is the signal that killed it. \n",
      "\n",
      "\n",
      "spawnvpe(mode, file, args, env) -> integer\n",
      "\n",
      "Execute file (which is looked for along $PATH) with arguments from\n",
      "args in a subprocess with the supplied environment.\n",
      "If mode == P_NOWAIT return the pid of the process.\n",
      "If mode == P_WAIT return the process's exit code if it exits normally;\n",
      "otherwise return -SIG, where SIG is the signal that killed it. \n",
      "\n",
      "\n",
      "Directory tree generator.\n",
      "\n",
      "    For each directory in the directory tree rooted at top (including top\n",
      "    itself, but excluding '.' and '..'), yields a 3-tuple\n",
      "\n",
      "        dirpath, dirnames, filenames\n",
      "\n",
      "    dirpath is a string, the path to the directory.  dirnames is a list of\n",
      "    the names of the subdirectories in dirpath (excluding '.' and '..').\n",
      "    filenames is a list of the names of the non-directory files in dirpath.\n",
      "    Note that the names in the lists are just names, with no path components.\n",
      "    To get a full path (which begins with top) to a file or directory in\n",
      "    dirpath, do os.path.join(dirpath, name).\n",
      "\n",
      "    If optional arg 'topdown' is true or not specified, the triple for a\n",
      "    directory is generated before the triples for any of its subdirectories\n",
      "    (directories are generated top down).  If topdown is false, the triple\n",
      "    for a directory is generated after the triples for all of its\n",
      "    subdirectories (directories are generated bottom up).\n",
      "\n",
      "    When topdown is true, the caller can modify the dirnames list in-place\n",
      "    (e.g., via del or slice assignment), and walk will only recurse into the\n",
      "    subdirectories whose names remain in dirnames; this can be used to prune the\n",
      "    search, or to impose a specific order of visiting.  Modifying dirnames when\n",
      "    topdown is false is ineffective, since the directories in dirnames have\n",
      "    already been generated by the time dirnames itself is generated. No matter\n",
      "    the value of topdown, the list of subdirectories is retrieved before the\n",
      "    tuples for the directory and its subdirectories are generated.\n",
      "\n",
      "    By default errors from the os.listdir() call are ignored.  If\n",
      "    optional arg 'onerror' is specified, it should be a function; it\n",
      "    will be called with one argument, an os.error instance.  It can\n",
      "    report the error to continue with the walk, or raise the exception\n",
      "    to abort the walk.  Note that the filename is available as the\n",
      "    filename attribute of the exception object.\n",
      "\n",
      "    By default, os.walk does not follow symbolic links to subdirectories on\n",
      "    systems that support them.  In order to get this functionality, set the\n",
      "    optional argument 'followlinks' to true.\n",
      "\n",
      "    Caution:  if you pass a relative pathname for top, don't change the\n",
      "    current working directory between resumptions of walk.  walk never\n",
      "    changes the current directory, and assumes that the client doesn't\n",
      "    either.\n",
      "\n",
      "    Example:\n",
      "\n",
      "    import os\n",
      "    from os.path import join, getsize\n",
      "    for root, dirs, files in os.walk('python/Lib/email'):\n",
      "        print root, \"consumes\",\n",
      "        print sum([getsize(join(root, name)) for name in files]),\n",
      "        print \"bytes in\", len(files), \"non-directory files\"\n",
      "        if 'CVS' in dirs:\n",
      "            dirs.remove('CVS')  # don't visit CVS directories\n",
      "\n",
      "    \n",
      "\n",
      "\n"
     ]
    }
   ],
   "source": [
    "## Problem 12\n",
    "import inspect\n",
    "\n",
    "def mydoc(name):\n",
    "    mod = __import__(name)\n",
    "    content = dir(mod)\n",
    "    fns = [f for f in content if inspect.isfunction(getattr(mod, f))]\n",
    "    \n",
    "    print \"Help on module {0}\".format(name)\n",
    "    print \"\\n\\n\"\n",
    "    \n",
    "    print \"DESCRIPTION\\n\"\n",
    "    print mod.__doc__\n",
    "    \n",
    "    print \"FUNCTIONS\\n\"\n",
    "    for f in fns:\n",
    "        print getattr(mod, f).__doc__\n",
    "        print \"\\n\"\n",
    "\n",
    "mydoc('os')"
   ]
  },
  {
   "cell_type": "code",
   "execution_count": null,
   "metadata": {
    "collapsed": false
   },
   "outputs": [],
   "source": []
  }
 ],
 "metadata": {
  "kernelspec": {
   "display_name": "Python 3",
   "language": "python",
   "name": "python3"
  },
  "language_info": {
   "codemirror_mode": {
    "name": "ipython",
    "version": 3
   },
   "file_extension": ".py",
   "mimetype": "text/x-python",
   "name": "python",
   "nbconvert_exporter": "python",
   "pygments_lexer": "ipython3",
   "version": "3.4.3"
  }
 },
 "nbformat": 4,
 "nbformat_minor": 0
}
