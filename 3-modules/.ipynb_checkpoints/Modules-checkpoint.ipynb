{
 "metadata": {
  "name": "",
  "signature": "sha256:2b66710e92d7ecc838e0cec5ac8402e5814a2ed7c6bdc9e2cdaddb2b4687dbdc"
 },
 "nbformat": 3,
 "nbformat_minor": 0,
 "worksheets": [
  {
   "cells": [
    {
     "cell_type": "code",
     "collapsed": false,
     "input": [
      "import os\n",
      "\n",
      "def list_files(path):\n",
      "    return os.listdir(path)\n",
      "list_files('.')"
     ],
     "language": "python",
     "metadata": {},
     "outputs": [
      {
       "metadata": {},
       "output_type": "pyout",
       "prompt_number": 12,
       "text": [
        "['.ipynb_checkpoints',\n",
        " 'a.csv',\n",
        " 'b.csv',\n",
        " 'Modules.ipynb',\n",
        " 'she.txt',\n",
        " 'Working With Data.ipynb']"
       ]
      }
     ],
     "prompt_number": 12
    },
    {
     "cell_type": "code",
     "collapsed": false,
     "input": [
      "def extcount(path):\n",
      "    files = [f.split('.') for f in list_files(path)]\n",
      "    res = {}\n",
      "    for en in files:\n",
      "        res[en[1]] = res.get(en[1], 0) + 1\n",
      "    return res\n",
      "\n",
      "extcount('.')\n",
      "    "
     ],
     "language": "python",
     "metadata": {},
     "outputs": [
      {
       "metadata": {},
       "output_type": "pyout",
       "prompt_number": 15,
       "text": [
        "{'csv': 2, 'ipynb': 2, 'ipynb_checkpoints': 1, 'txt': 1}"
       ]
      }
     ],
     "prompt_number": 15
    },
    {
     "cell_type": "code",
     "collapsed": false,
     "input": [
      "# Problem: 3\n",
      "path = '.'\n",
      "for name in os.listdir(path):\n",
      "    st = os.stat(os.path.join(path, name))\n",
      "    print \"{0}\\t{1}\\t{2}\".format(name, st.st_size, st.st_mtime)"
     ],
     "language": "python",
     "metadata": {},
     "outputs": [
      {
       "output_type": "stream",
       "stream": "stdout",
       "text": [
        ".ipynb_checkpoints\t102\t1477970478.0\n",
        "Modules.ipynb\t2253\t1477973732.0\n"
       ]
      }
     ],
     "prompt_number": 10
    },
    {
     "cell_type": "code",
     "collapsed": false,
     "input": [
      "# Problem 4:\n",
      "# Using os.stat\n",
      "from stat import *\n",
      "\n",
      "root = './dir'\n",
      "def r_print_files(path, depth=0):\n",
      "    p = \"|  \" * (depth-1)\n",
      "    print \"{0}|-- {1}\".format(p, path.split('/')[-1])\n",
      "    files = os.listdir(path)\n",
      "    for index, name in enumerate(files):\n",
      "        full_path = os.path.join(path, name)\n",
      "        statfile = os.stat(full_path)\n",
      "        if (S_ISDIR(statfile.st_mode)):\n",
      "            r_print_files(full_path, depth+1)\n",
      "            continue\n",
      "            \n",
      "        prep = \"|  \" * depth\n",
      "        delim = \"|\" if index <> len(files)-1 else \"\\\\\"\n",
      "        print \"{0}{1}-- {2}\".format(prep, delim, name)\n",
      "        \n",
      "r_print_files(root)"
     ],
     "language": "python",
     "metadata": {},
     "outputs": [
      {
       "output_type": "stream",
       "stream": "stdout",
       "text": [
        "|-- dir\n",
        "|-- a.txt\n",
        "|-- b.txt\n",
        "|-- c.txt\n",
        "|-- code\n",
        "|  |-- a.txt\n",
        "|  |-- assets\n",
        "|  |  |-- a.css\n",
        "|  |  \\-- b.css\n",
        "|  |-- b.txt\n",
        "|  |-- main.py\n",
        "|  \\-- support.py\n",
        "\\-- d.md\n"
       ]
      }
     ],
     "prompt_number": 42
    },
    {
     "cell_type": "code",
     "collapsed": false,
     "input": [
      "# urllib\n",
      "import urllib2\n",
      "\n",
      "root = 'wget'\n",
      "response = urllib2.urlopen('http://docs.python.org/tutorial/interpreter.html')\n",
      "print response.headers\n",
      "print response.headers.get('Content-Disposition', '')\n",
      "content = response.read()\n",
      "with open(os.path.join(root, 'index.html'), 'w') as f:\n",
      "    f.write(content)"
     ],
     "language": "python",
     "metadata": {},
     "outputs": [
      {
       "output_type": "stream",
       "stream": "stdout",
       "text": [
        "Server: nginx\r\n",
        "Content-Type: text/html\r\n",
        "Last-Modified: Fri, 23 Sep 2016 02:08:08 GMT\r\n",
        "ETag: \"57e48e88-4e59\"\r\n",
        "X-Clacks-Overhead: GNU Terry Pratchett\r\n",
        "Strict-Transport-Security: max-age=315360000; includeSubDomains; preload\r\n",
        "Content-Length: 20057\r\n",
        "Accept-Ranges: bytes\r\n",
        "Date: Tue, 01 Nov 2016 12:00:41 GMT\r\n",
        "Via: 1.1 varnish\r\n",
        "Age: 27663\r\n",
        "Connection: close\r\n",
        "X-Served-By: cache-hkg6823-HKG\r\n",
        "X-Cache: HIT\r\n",
        "X-Cache-Hits: 2\r\n",
        "\n",
        "\n"
       ]
      }
     ],
     "prompt_number": 67
    },
    {
     "cell_type": "code",
     "collapsed": false,
     "input": [
      "# Problem 6\n",
      "import urllib2\n",
      "import re\n",
      "\n",
      "root = 'wget'\n",
      "response = urllib2.urlopen('http://docs.python.org/tutorial/interpreter.html')\n",
      "\n",
      "content = response.read()\n",
      "content = re.sub(r\"<[a-zA-Z/]*>\", '', content)\n",
      "content = re.sub(r\" +\", ' ', content)\n",
      "with open(os.path.join(root, 'index-re.html'), 'w') as f:\n",
      "    f.write(content)"
     ],
     "language": "python",
     "metadata": {},
     "outputs": [],
     "prompt_number": 83
    },
    {
     "cell_type": "code",
     "collapsed": false,
     "input": [
      "import re\n",
      "\n",
      "content = \"<body> hello </body> <span> world </span>\"\n",
      "content = re.sub(r\"<[a-zA-Z/]*>\", '', content)\n",
      "content = re.sub(r\" +\", ' ', content)"
     ],
     "language": "python",
     "metadata": {},
     "outputs": [],
     "prompt_number": 82
    },
    {
     "cell_type": "code",
     "collapsed": false,
     "input": [
      "# Problem 7\n",
      "import re\n",
      "\n",
      "def make_slug(val):\n",
      "    \n",
      "    res = re.sub(r\"[^a-z\\s]+\", '', val) # remove non alphabetical chars\n",
      "    res = re.sub(r\"\\s+\", \"-\", res) # change whitespace to a single dash value\n",
      "    return res\n",
      "\n",
      "print make_slug(\"hello world\")\n",
      "print make_slug(\"hello -- world!\")"
     ],
     "language": "python",
     "metadata": {},
     "outputs": [
      {
       "output_type": "stream",
       "stream": "stdout",
       "text": [
        "hello-world\n",
        "hello-world\n"
       ]
      }
     ],
     "prompt_number": 90
    },
    {
     "cell_type": "code",
     "collapsed": false,
     "input": [
      "# Problem 8\n",
      "import re\n",
      "\n"
     ],
     "language": "python",
     "metadata": {},
     "outputs": []
    }
   ],
   "metadata": {}
  }
 ]
}