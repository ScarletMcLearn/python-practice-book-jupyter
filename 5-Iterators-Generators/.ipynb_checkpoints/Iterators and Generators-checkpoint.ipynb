{
 "cells": [
  {
   "cell_type": "raw",
   "metadata": {
    "collapsed": false
   },
   "source": [
    "class yrange:\n",
    "    def __init__(self, n):\n",
    "        self.i = 0\n",
    "        self.n = n\n",
    "        \n",
    "    def __iter__(self):\n",
    "        return self\n",
    "    \n",
    "    def next(self):\n",
    "        if self.i < self.n:\n",
    "            i = self.i\n",
    "            self.i = i + 1\n",
    "            return i\n",
    "        else:\n",
    "            raise StopIteration()\n",
    "y = yrange(2)\n",
    "print(y.next())\n",
    "print(y.next())\n",
    "y = yrange(2)\n",
    "print(y.next())"
   ]
  },
  {
   "cell_type": "code",
   "execution_count": 8,
   "metadata": {
    "collapsed": true
   },
   "outputs": [],
   "source": [
    "class zrange:\n",
    "    def __init__(self, n):\n",
    "        self.n = n\n",
    "\n",
    "    def __iter__(self):\n",
    "        return zrange_iter(self.n)\n",
    "\n",
    "class zrange_iter:\n",
    "    def __init__(self, n):\n",
    "        self.i = 0\n",
    "        self.n = n\n",
    "\n",
    "    def __iter__(self):\n",
    "        # Iterators are iterables too.\n",
    "        # Adding this functions to make them so.\n",
    "        return self\n",
    "\n",
    "    def next(self):\n",
    "        if self.i < self.n:\n",
    "            i = self.i\n",
    "            self.i += 1\n",
    "            return i\n",
    "        else:\n",
    "            raise StopIteration()"
   ]
  },
  {
   "cell_type": "code",
   "execution_count": 11,
   "metadata": {
    "collapsed": false
   },
   "outputs": [
    {
     "name": "stdout",
     "output_type": "stream",
     "text": [
      "10\n",
      "9\n",
      "3\n",
      "5\n"
     ]
    }
   ],
   "source": [
    "# Problem 1:\n",
    "class reverse_iter:\n",
    "    def __init__(self, lst):\n",
    "        self.i = len(lst) - 1\n",
    "        self.lst = lst\n",
    "    \n",
    "    def __iter__(self):\n",
    "        return self\n",
    "    \n",
    "    def next(self):\n",
    "        if self.i >= 0:\n",
    "            i = self.i\n",
    "            self.i = i - 1\n",
    "            return self.lst[i]\n",
    "        else:\n",
    "            raise StopIteration()\n",
    "\n",
    "r = reverse_iter([1, 5, 3, 9, 10])\n",
    "print(r.next())\n",
    "print(r.next())\n",
    "print(r.next())\n",
    "print(r.next())"
   ]
  },
  {
   "cell_type": "code",
   "execution_count": 14,
   "metadata": {
    "collapsed": false
   },
   "outputs": [
    {
     "name": "stdout",
     "output_type": "stream",
     "text": [
      "0\n",
      "1\n",
      "2\n"
     ]
    }
   ],
   "source": [
    "def yrange(n):\n",
    "    i = 0\n",
    "    while i < n:\n",
    "        yield i\n",
    "        i += 1\n",
    "        \n",
    "y = yrange(10)\n",
    "print(next(y))\n",
    "print(next(y))\n",
    "print(next(y))"
   ]
  },
  {
   "cell_type": "code",
   "execution_count": 20,
   "metadata": {
    "collapsed": false
   },
   "outputs": [
    {
     "name": "stdout",
     "output_type": "stream",
     "text": [
      "begin\n",
      "before yield 0\n",
      "0\n"
     ]
    }
   ],
   "source": [
    "def foo():\n",
    "    print(\"begin\")\n",
    "    for i in range(3):\n",
    "        print(\"before yield\", i)\n",
    "        yield i\n",
    "        print(\"after yield\", i)\n",
    "    print(\"end\")\n",
    "f = foo()\n",
    "print(next(f))"
   ]
  },
  {
   "cell_type": "code",
   "execution_count": 2,
   "metadata": {
    "collapsed": false
   },
   "outputs": [
    {
     "data": {
      "text/plain": [
       "[1, 4, 9, 16, 25]"
      ]
     },
     "execution_count": 2,
     "metadata": {},
     "output_type": "execute_result"
    }
   ],
   "source": [
    "def integers():\n",
    "    \"\"\"Infinite sequence of integers.\"\"\"\n",
    "    i = 1\n",
    "    while True:\n",
    "        yield i\n",
    "        i = i + 1\n",
    "\n",
    "def squares():\n",
    "    for i in integers():\n",
    "        yield i * i\n",
    "\n",
    "def take(n, seq):\n",
    "    s = iter(seq)\n",
    "    res = []\n",
    "    try:\n",
    "        for i in range(n):\n",
    "            res.append(next(s))\n",
    "            \n",
    "    except StopIteration:\n",
    "        pass\n",
    "    return res\n",
    "\n",
    "take(5, squares())"
   ]
  },
  {
   "cell_type": "code",
   "execution_count": 4,
   "metadata": {
    "collapsed": false
   },
   "outputs": [
    {
     "name": "stdout",
     "output_type": "stream",
     "text": [
      "0\n",
      "1\n",
      "4\n",
      "9\n"
     ]
    }
   ],
   "source": [
    "# Generator Expressions\n",
    "a = (x*x for x in range(10))\n",
    "print(next(a))\n",
    "print(next(a))\n",
    "print(next(a))\n",
    "print(next(a))"
   ]
  },
  {
   "cell_type": "code",
   "execution_count": 5,
   "metadata": {
    "collapsed": false
   },
   "outputs": [
    {
     "name": "stdout",
     "output_type": "stream",
     "text": [
      "(3, 4, 5)\n",
      "[(6, 8, 10), (5, 12, 13), (9, 12, 15), (8, 15, 17), (12, 16, 20), (15, 20, 25), (7, 24, 25), (10, 24, 26), (20, 21, 29), (18, 24, 30)]\n"
     ]
    }
   ],
   "source": [
    "pyt = ((x, y, z) for z in integers() for y in range(1, z) for x in list(range(1, y)) if x*x + y*y == z*z)\n",
    "print(next(pyt))\n",
    "print(take(10, pyt))\n",
    "\n"
   ]
  },
  {
   "cell_type": "code",
   "execution_count": 63,
   "metadata": {
    "collapsed": false
   },
   "outputs": [],
   "source": [
    "def readfiles(filenames):\n",
    "    for f in filenames:\n",
    "        for line in open(f):\n",
    "            yield line\n",
    "\n",
    "def grep(pattern, lines):\n",
    "    return (line for line in lines if pattern in line)\n",
    "\n",
    "def printlines(lines):\n",
    "    for line in lines:\n",
    "        print(\": \" + line)\n",
    "\n",
    "def main(pattern, filenames):\n",
    "    lines = readfiles(filenames)\n",
    "    lines = grep(pattern, lines)\n",
    "    printlines(lines)"
   ]
  },
  {
   "cell_type": "code",
   "execution_count": 12,
   "metadata": {
    "collapsed": false
   },
   "outputs": [
    {
     "name": "stdout",
     "output_type": "stream",
     "text": [
      "Lorem ipsum dolor sit amet, consectetur adipiscing elit. \n",
      "\n",
      "Morbi condimentum varius odio, in euismod nunc ultrices ut. Donec lobortis id neque in congue. Lorem ipsum dolor sit amet, consectetur adipiscing elit. Praesent euismod pretium quam, non hendrerit purus pulvinar et. Suspendisse accumsan consectetur orci. Duis ornare pretium lacus sed scelerisque. Ut eget quam condimentum, convallis augue non, ornare erat.\n",
      "\n",
      "Suspendisse a finibus nisi. Quisque id aliquet nisi. Lorem ipsum dolor sit amet, consectetur adipiscing elit. Nullam sollicitudin arcu eget elit fermentum, lobortis feugiat arcu bibendum. \n",
      "\n"
     ]
    }
   ],
   "source": [
    "main(\"Lorem\", ['files/a.txt', 'files/b.txt'])"
   ]
  },
  {
   "cell_type": "code",
   "execution_count": 73,
   "metadata": {
    "collapsed": false
   },
   "outputs": [
    {
     "name": "stdout",
     "output_type": "stream",
     "text": [
      ": Lorem ipsum dolor sit amet, consectetur adipiscing elit. \n",
      "\n",
      ": \n",
      "\n",
      ": \n",
      "\n",
      ": Ut ac gravida ipsum. Quisque ac lacus egestas, venenatis metus id, finibus turpis.\n",
      "\n"
     ]
    }
   ],
   "source": [
    "# Problem 2:\n",
    "def filter_gen(fn, lines):\n",
    "    return (line for line in lines if fn(line))\n",
    "\n",
    "lines = readfiles(['files/a.txt', 'files/b.txt'])\n",
    "lines = filter_gen(fn=lambda line: len(line) < 100, lines=lines)\n",
    "printlines(lines)"
   ]
  },
  {
   "cell_type": "code",
   "execution_count": 74,
   "metadata": {
    "collapsed": false
   },
   "outputs": [
    {
     "name": "stdout",
     "output_type": "stream",
     "text": [
      ": files/a.txt\n",
      ": files/b.txt\n",
      ": files/level2/a.py\n",
      ": files/level2/a.txt\n",
      ": files/level2/level3/test.py\n",
      ": files/level2/level3/test.txt\n",
      ": files/level2b/abc.py\n",
      ": files/level2b/dd.txt\n",
      ": files/me.py\n"
     ]
    }
   ],
   "source": [
    "# Problem 3:\n",
    "import os\n",
    "from stat import *\n",
    "\n",
    "def findfiles(path):\n",
    "    files = os.listdir(path)\n",
    "    for name in files:\n",
    "        full_path = os.path.join(path, name)\n",
    "        statfile = os.stat(full_path)\n",
    "        if (S_ISDIR(statfile.st_mode)):\n",
    "            for n in findfiles(full_path):\n",
    "                yield n\n",
    "        else:\n",
    "            yield full_path\n",
    "\n",
    "files = findfiles(\"files\")\n",
    "printlines(files)"
   ]
  },
  {
   "cell_type": "code",
   "execution_count": 41,
   "metadata": {
    "collapsed": false
   },
   "outputs": [
    {
     "name": "stdout",
     "output_type": "stream",
     "text": [
      "files/level2/a.py\n",
      "files/level2/level3/test.py\n",
      "files/level2b/abc.py\n",
      "files/me.py\n"
     ]
    }
   ],
   "source": [
    "# Problem 4:\n",
    "files = findfiles(\"files\")\n",
    "files = filter_gen(fn=lambda f: f.endswith('.py'), lines=files)\n",
    "printlines(files)"
   ]
  },
  {
   "cell_type": "code",
   "execution_count": 46,
   "metadata": {
    "collapsed": false
   },
   "outputs": [
    {
     "data": {
      "text/plain": [
       "12"
      ]
     },
     "execution_count": 46,
     "metadata": {},
     "output_type": "execute_result"
    }
   ],
   "source": [
    "# Problem 5:\n",
    "files = findfiles(\"files\")\n",
    "files = filter_gen(fn=lambda f: f.endswith('.py'), lines=files)\n",
    "def count_lines(files):\n",
    "    total = 0\n",
    "    for f in files:\n",
    "        total += len(list(open(f)))\n",
    "    return total\n",
    "        \n",
    "count_lines(files)"
   ]
  },
  {
   "cell_type": "code",
   "execution_count": 69,
   "metadata": {
    "collapsed": false
   },
   "outputs": [],
   "source": [
    "files = findfiles(\"files\")\n",
    "files = filter_gen(fn=lambda f: f.endswith('.py'), lines=files)\n",
    "lines = readfiles(files)\n",
    "lines = filter_gen(fn=lambda l: not l.strip().startswith('#') and l.strip() , lines=lines)\n",
    "printlines(lines)"
   ]
  },
  {
   "cell_type": "code",
   "execution_count": 80,
   "metadata": {
    "collapsed": false
   },
   "outputs": [
    {
     "ename": "AttributeError",
     "evalue": "'module' object has no attribute 'zip'",
     "output_type": "error",
     "traceback": [
      "\u001b[0;31m---------------------------------------------------------------------------\u001b[0m",
      "\u001b[0;31mAttributeError\u001b[0m                            Traceback (most recent call last)",
      "\u001b[0;32m<ipython-input-80-6170852d3c3d>\u001b[0m in \u001b[0;36m<module>\u001b[0;34m()\u001b[0m\n\u001b[1;32m      6\u001b[0m \u001b[0mit2\u001b[0m \u001b[0;34m=\u001b[0m \u001b[0miter\u001b[0m\u001b[0;34m(\u001b[0m\u001b[0;34m[\u001b[0m\u001b[0;36m2\u001b[0m\u001b[0;34m,\u001b[0m \u001b[0;36m4\u001b[0m\u001b[0;34m,\u001b[0m \u001b[0;36m6\u001b[0m\u001b[0;34m,\u001b[0m \u001b[0;36m8\u001b[0m\u001b[0;34m]\u001b[0m\u001b[0;34m)\u001b[0m\u001b[0;34m\u001b[0m\u001b[0m\n\u001b[1;32m      7\u001b[0m \u001b[0;31m# print(list(itertools.chain(it1, it2)))\u001b[0m\u001b[0;34m\u001b[0m\u001b[0;34m\u001b[0m\u001b[0m\n\u001b[0;32m----> 8\u001b[0;31m \u001b[0mprint\u001b[0m\u001b[0;34m(\u001b[0m\u001b[0mlist\u001b[0m\u001b[0;34m(\u001b[0m\u001b[0mitertools\u001b[0m\u001b[0;34m.\u001b[0m\u001b[0mzip\u001b[0m\u001b[0;34m(\u001b[0m\u001b[0mit1\u001b[0m\u001b[0;34m,\u001b[0m \u001b[0mit2\u001b[0m\u001b[0;34m)\u001b[0m\u001b[0;34m)\u001b[0m\u001b[0;34m)\u001b[0m\u001b[0;34m\u001b[0m\u001b[0m\n\u001b[0m",
      "\u001b[0;31mAttributeError\u001b[0m: 'module' object has no attribute 'zip'"
     ]
    }
   ],
   "source": [
    "# Itertools\n",
    "import itertools\n",
    "\n",
    "\n",
    "it1 = iter([1, 3, 5, 7])\n",
    "it2 = iter([2, 4, 6, 8])\n",
    "# print(list(itertools.chain(it1, it2)))\n",
    "# print(list(itertools.izip(it1, it2)))"
   ]
  },
  {
   "cell_type": "code",
   "execution_count": 86,
   "metadata": {
    "collapsed": false
   },
   "outputs": [
    {
     "name": "stdout",
     "output_type": "stream",
     "text": [
      "0 [0, 1, 2, 3, 4]\n"
     ]
    }
   ],
   "source": [
    "import itertools\n",
    "\n",
    "\n",
    "def peep(it):\n",
    "    val = next(it)\n",
    "    itr = itertools.chain(iter([val]), it)\n",
    "    return val, itr\n",
    "\n",
    "it = iter(range(5))\n",
    "i, it1 = peep(it)\n",
    "print(i, list(it1))"
   ]
  },
  {
   "cell_type": "code",
   "execution_count": 89,
   "metadata": {
    "collapsed": false
   },
   "outputs": [
    {
     "name": "stdout",
     "output_type": "stream",
     "text": [
      "0 a\n",
      "1 b\n",
      "2 c\n",
      "3 d\n",
      "4 e\n"
     ]
    }
   ],
   "source": [
    "import itertools\n",
    "\n",
    "\n",
    "def my_enumerate(lst):\n",
    "    i = 0\n",
    "    for v in lst:\n",
    "        yield (i, v)\n",
    "        i += 1\n",
    "\n",
    "for i, v in my_enumerate([\"a\", \"b\", \"c\", \"d\", \"e\"]):\n",
    "    print(i, v)"
   ]
  },
  {
   "cell_type": "code",
   "execution_count": 95,
   "metadata": {
    "collapsed": false
   },
   "outputs": [
    {
     "name": "stdout",
     "output_type": "stream",
     "text": [
      "1 a\n",
      "2 b\n",
      "3 c\n",
      "4 d\n",
      "5 e\n",
      "6 None\n",
      "7 None\n"
     ]
    }
   ],
   "source": [
    "import itertools\n",
    "\n",
    "\n",
    "def izip(lst1, lst2):\n",
    "    lst1, lst2 = iter(lst1), iter(lst2)\n",
    "    while True:\n",
    "        # get data until exhausted\n",
    "        try:\n",
    "            x = next(lst1)\n",
    "        except:\n",
    "            x = None\n",
    "        # get data until exhausted\n",
    "        try:\n",
    "            y = next(lst2)\n",
    "        except:\n",
    "            y = None\n",
    "        \n",
    "        # if both are exhausted, then stop\n",
    "        if x is None and y is None:\n",
    "            raise StopIteration()\n",
    "            \n",
    "        yield (x, y)\n",
    "\n",
    "for i, v in izip([1, 2, 3, 4, 5, 6, 7], [\"a\", \"b\", \"c\", \"d\", \"e\"]):\n",
    "    print(i, v)\n",
    "    "
   ]
  },
  {
   "cell_type": "code",
   "execution_count": null,
   "metadata": {
    "collapsed": true
   },
   "outputs": [],
   "source": []
  }
 ],
 "metadata": {
  "kernelspec": {
   "display_name": "Python 3",
   "language": "python",
   "name": "python3"
  },
  "language_info": {
   "codemirror_mode": {
    "name": "ipython",
    "version": 3
   },
   "file_extension": ".py",
   "mimetype": "text/x-python",
   "name": "python",
   "nbconvert_exporter": "python",
   "pygments_lexer": "ipython3",
   "version": "3.4.3"
  }
 },
 "nbformat": 4,
 "nbformat_minor": 1
}
