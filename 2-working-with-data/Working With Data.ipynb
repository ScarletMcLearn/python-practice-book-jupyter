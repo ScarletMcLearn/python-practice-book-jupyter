{
 "metadata": {
  "name": "",
  "signature": "sha256:000e90bd9889ab07db4f574d72129417dcb638ddabc9c5ac13e092194a7c72e6"
 },
 "nbformat": 3,
 "nbformat_minor": 0,
 "worksheets": [
  {
   "cells": [
    {
     "cell_type": "code",
     "collapsed": false,
     "input": [
      "x = [1, 2, 3, 4, 5]\n",
      "print x[::-1]"
     ],
     "language": "python",
     "metadata": {},
     "outputs": [
      {
       "output_type": "stream",
       "stream": "stdout",
       "text": [
        "[5, 4, 3, 2, 1]\n"
       ]
      }
     ],
     "prompt_number": 3
    },
    {
     "cell_type": "code",
     "collapsed": false,
     "input": [
      "print x[:-1]\n",
      "print x[1:3]\n",
      "print x[2:]"
     ],
     "language": "python",
     "metadata": {},
     "outputs": [
      {
       "output_type": "stream",
       "stream": "stdout",
       "text": [
        "[1, 2, 3, 4]\n",
        "[2, 3]\n",
        "[3, 4, 5]\n"
       ]
      }
     ],
     "prompt_number": 4
    },
    {
     "cell_type": "code",
     "collapsed": false,
     "input": [
      "print x[2:10]"
     ],
     "language": "python",
     "metadata": {},
     "outputs": [
      {
       "output_type": "stream",
       "stream": "stdout",
       "text": [
        "[3, 4, 5]\n"
       ]
      }
     ],
     "prompt_number": 5
    },
    {
     "cell_type": "code",
     "collapsed": false,
     "input": [
      "print x[1:-1]\n",
      "print x[0:0]"
     ],
     "language": "python",
     "metadata": {},
     "outputs": [
      {
       "output_type": "stream",
       "stream": "stdout",
       "text": [
        "[2, 3, 4]\n",
        "[]\n"
       ]
      }
     ],
     "prompt_number": 9
    },
    {
     "cell_type": "code",
     "collapsed": false,
     "input": [
      "x = range(2, 10, 2)\n",
      "y = range(1, 10, 2)\n",
      "zip(x, y)"
     ],
     "language": "python",
     "metadata": {},
     "outputs": [
      {
       "metadata": {},
       "output_type": "pyout",
       "prompt_number": 13,
       "text": [
        "[(2, 1), (4, 3), (6, 5), (8, 7)]"
       ]
      }
     ],
     "prompt_number": 13
    },
    {
     "cell_type": "code",
     "collapsed": false,
     "input": [
      "print x\n",
      "print y"
     ],
     "language": "python",
     "metadata": {},
     "outputs": [
      {
       "output_type": "stream",
       "stream": "stdout",
       "text": [
        "[2, 4, 6, 8]\n",
        "[1, 3, 5, 7, 9]\n"
       ]
      }
     ],
     "prompt_number": 14
    },
    {
     "cell_type": "code",
     "collapsed": false,
     "input": [
      "# Problem 1:\n",
      "x = [0, 1, [2]]\n",
      "x[2][0] = 3\n",
      "print x\n",
      "x[2].append(4)\n",
      "print x\n",
      "x[2] = 2\n",
      "print x"
     ],
     "language": "python",
     "metadata": {},
     "outputs": [
      {
       "output_type": "stream",
       "stream": "stdout",
       "text": [
        "[0, 1, [3]]\n",
        "[0, 1, [3, 4]]\n",
        "[0, 1, 2]\n"
       ]
      }
     ],
     "prompt_number": 15
    },
    {
     "cell_type": "code",
     "collapsed": false,
     "input": [
      "def sum(lst):\n",
      "    result = lst[0]\n",
      "    for i in lst[1:]:\n",
      "        result += i\n",
      "    return result\n",
      "\n",
      "print sum(range(6))\n",
      "sum([1,2,3,4,5])"
     ],
     "language": "python",
     "metadata": {},
     "outputs": [
      {
       "output_type": "stream",
       "stream": "stdout",
       "text": [
        "15\n"
       ]
      },
      {
       "metadata": {},
       "output_type": "pyout",
       "prompt_number": 21,
       "text": [
        "15"
       ]
      }
     ],
     "prompt_number": 21
    },
    {
     "cell_type": "code",
     "collapsed": false,
     "input": [
      "\"abc\" + \"def\""
     ],
     "language": "python",
     "metadata": {},
     "outputs": [
      {
       "metadata": {},
       "output_type": "pyout",
       "prompt_number": 22,
       "text": [
        "'abcdef'"
       ]
      }
     ],
     "prompt_number": 22
    },
    {
     "cell_type": "code",
     "collapsed": false,
     "input": [
      "# Problem 3: make the sum function work on strings as well\n",
      "sum([\"a\", \"b\", \"c\", \"d\", \"e\", \"f\"])"
     ],
     "language": "python",
     "metadata": {},
     "outputs": [
      {
       "metadata": {},
       "output_type": "pyout",
       "prompt_number": 24,
       "text": [
        "'abcdef'"
       ]
      }
     ],
     "prompt_number": 24
    },
    {
     "cell_type": "code",
     "collapsed": false,
     "input": [
      "def product(lst):\n",
      "    result = 1\n",
      "    for i in lst:\n",
      "        result *= i\n",
      "    return result\n",
      "product(range(1,4))"
     ],
     "language": "python",
     "metadata": {},
     "outputs": [
      {
       "metadata": {},
       "output_type": "pyout",
       "prompt_number": 30,
       "text": [
        "6"
       ]
      }
     ],
     "prompt_number": 30
    },
    {
     "cell_type": "code",
     "collapsed": false,
     "input": [
      "def factorial(num):\n",
      "    return product(range(1, num+1))\n",
      "factorial(4)"
     ],
     "language": "python",
     "metadata": {},
     "outputs": [
      {
       "metadata": {},
       "output_type": "pyout",
       "prompt_number": 32,
       "text": [
        "24"
       ]
      }
     ],
     "prompt_number": 32
    },
    {
     "cell_type": "code",
     "collapsed": false,
     "input": [
      "def reverse(lst):\n",
      "    res = []\n",
      "    for i in range(len(lst))[::-1]:\n",
      "        res.append(lst[i])\n",
      "    return res\n",
      "reverse(range(10))"
     ],
     "language": "python",
     "metadata": {},
     "outputs": [
      {
       "metadata": {},
       "output_type": "pyout",
       "prompt_number": 33,
       "text": [
        "[9, 8, 7, 6, 5, 4, 3, 2, 1, 0]"
       ]
      }
     ],
     "prompt_number": 33
    },
    {
     "cell_type": "code",
     "collapsed": false,
     "input": [
      "reverse(reverse(range(10)))"
     ],
     "language": "python",
     "metadata": {},
     "outputs": [
      {
       "metadata": {},
       "output_type": "pyout",
       "prompt_number": 34,
       "text": [
        "[0, 1, 2, 3, 4, 5, 6, 7, 8, 9]"
       ]
      }
     ],
     "prompt_number": 34
    },
    {
     "cell_type": "code",
     "collapsed": false,
     "input": [
      "def min(lst):\n",
      "    champ = lst[0]\n",
      "    for candidate in lst[1:]:\n",
      "        if candidate < champ:\n",
      "            champ = candidate\n",
      "    return champ\n",
      "min([1, 3, -4, 2, 10])"
     ],
     "language": "python",
     "metadata": {},
     "outputs": [
      {
       "metadata": {},
       "output_type": "pyout",
       "prompt_number": 35,
       "text": [
        "-4"
       ]
      }
     ],
     "prompt_number": 35
    },
    {
     "cell_type": "code",
     "collapsed": false,
     "input": [
      "def max(lst):\n",
      "    champ = lst[0]\n",
      "    for candidate in lst[1:]:\n",
      "        if candidate > champ:\n",
      "            champ = candidate\n",
      "    return champ\n",
      "max([1, 3, -4, 2, 10])"
     ],
     "language": "python",
     "metadata": {},
     "outputs": [
      {
       "metadata": {},
       "output_type": "pyout",
       "prompt_number": 36,
       "text": [
        "10"
       ]
      }
     ],
     "prompt_number": 36
    },
    {
     "cell_type": "code",
     "collapsed": false,
     "input": [
      "\"a\" > \"b\""
     ],
     "language": "python",
     "metadata": {},
     "outputs": [
      {
       "metadata": {},
       "output_type": "pyout",
       "prompt_number": 37,
       "text": [
        "False"
       ]
      }
     ],
     "prompt_number": 37
    },
    {
     "cell_type": "code",
     "collapsed": false,
     "input": [
      "max([\"a\", \"b\", \"c\", '%', 'z'])"
     ],
     "language": "python",
     "metadata": {},
     "outputs": [
      {
       "metadata": {},
       "output_type": "pyout",
       "prompt_number": 40,
       "text": [
        "'z'"
       ]
      }
     ],
     "prompt_number": 40
    },
    {
     "cell_type": "code",
     "collapsed": false,
     "input": [
      "1 > \"a\""
     ],
     "language": "python",
     "metadata": {},
     "outputs": [
      {
       "metadata": {},
       "output_type": "pyout",
       "prompt_number": 41,
       "text": [
        "False"
       ]
      }
     ],
     "prompt_number": 41
    },
    {
     "cell_type": "code",
     "collapsed": false,
     "input": [
      "1 < \"a\"\n"
     ],
     "language": "python",
     "metadata": {},
     "outputs": [
      {
       "metadata": {},
       "output_type": "pyout",
       "prompt_number": 42,
       "text": [
        "True"
       ]
      }
     ],
     "prompt_number": 42
    },
    {
     "cell_type": "code",
     "collapsed": false,
     "input": [
      "min([1, 2, 3, \"z\"])"
     ],
     "language": "python",
     "metadata": {},
     "outputs": [
      {
       "metadata": {},
       "output_type": "pyout",
       "prompt_number": 45,
       "text": [
        "1"
       ]
      }
     ],
     "prompt_number": 45
    },
    {
     "cell_type": "code",
     "collapsed": false,
     "input": [
      "def cumulative_sum(lst):\n",
      "    res = lst[0]\n",
      "    result = [res]\n",
      "    for i in lst[1:]:\n",
      "        res += i\n",
      "        result.append(res)\n",
      "    return result\n",
      "cumulative_sum(range(10))"
     ],
     "language": "python",
     "metadata": {},
     "outputs": [
      {
       "metadata": {},
       "output_type": "pyout",
       "prompt_number": 46,
       "text": [
        "[0, 1, 3, 6, 10, 15, 21, 28, 36, 45]"
       ]
      }
     ],
     "prompt_number": 46
    },
    {
     "cell_type": "code",
     "collapsed": false,
     "input": [
      "cumulative_sum([\"a\", 'B', 'C', 'd'])"
     ],
     "language": "python",
     "metadata": {},
     "outputs": [
      {
       "metadata": {},
       "output_type": "pyout",
       "prompt_number": 47,
       "text": [
        "['a', 'aB', 'aBC', 'aBCd']"
       ]
      }
     ],
     "prompt_number": 47
    },
    {
     "cell_type": "code",
     "collapsed": false,
     "input": [
      "def cumulative_product(lst):\n",
      "    res = lst[0]\n",
      "    result = [res]\n",
      "    for i in lst[1:]:\n",
      "        res *= i\n",
      "        result.append(res)\n",
      "    return result\n",
      "cumulative_product(range(1, 10))"
     ],
     "language": "python",
     "metadata": {},
     "outputs": [
      {
       "metadata": {},
       "output_type": "pyout",
       "prompt_number": 50,
       "text": [
        "[1, 2, 6, 24, 120, 720, 5040, 40320, 362880]"
       ]
      }
     ],
     "prompt_number": 50
    },
    {
     "cell_type": "code",
     "collapsed": false,
     "input": [
      "def unique(lst):\n",
      "    res = []\n",
      "    for i in lst:\n",
      "        if i not in res:\n",
      "            res.append(i)\n",
      "    return res\n",
      "unique([1, 2, 1, 1, 2, 3, 5])"
     ],
     "language": "python",
     "metadata": {},
     "outputs": [
      {
       "metadata": {},
       "output_type": "pyout",
       "prompt_number": 15,
       "text": [
        "[1, 2, 3, 5]"
       ]
      }
     ],
     "prompt_number": 15
    },
    {
     "cell_type": "code",
     "collapsed": false,
     "input": [
      "def dups(lst):\n",
      "    u = unique(lst)\n",
      "    for i in u:\n",
      "        lst.remove(i)\n",
      "    return unique(lst)\n",
      "dups([1, 2, 3, 2, 4, 6, 4, 5])"
     ],
     "language": "python",
     "metadata": {},
     "outputs": [
      {
       "metadata": {},
       "output_type": "pyout",
       "prompt_number": 66,
       "text": [
        "[2, 4]"
       ]
      }
     ],
     "prompt_number": 66
    },
    {
     "cell_type": "code",
     "collapsed": false,
     "input": [
      "x = [1, 1, 2, 3, 1]\n",
      "x.remove(1)\n",
      "x.remove(3)\n",
      "x\n"
     ],
     "language": "python",
     "metadata": {},
     "outputs": [
      {
       "metadata": {},
       "output_type": "pyout",
       "prompt_number": 56,
       "text": [
        "[1, 2, 1]"
       ]
      }
     ],
     "prompt_number": 56
    },
    {
     "cell_type": "code",
     "collapsed": false,
     "input": [
      "def group(lst, num):\n",
      "    res = []\n",
      "    t_lst = []\n",
      "    for i in range(len(lst)):\n",
      "        val = lst[i]\n",
      "        t_lst.append(val)\n",
      "        if i % num == 0 and i:\n",
      "            res.append(t_lst)\n",
      "            t_lst = []\n",
      "    return res\n",
      "group(range(20), 5)\n",
      "            "
     ],
     "language": "python",
     "metadata": {},
     "outputs": [
      {
       "metadata": {},
       "output_type": "pyout",
       "prompt_number": 1,
       "text": [
        "[[0, 1, 2, 3, 4, 5], [6, 7, 8, 9, 10], [11, 12, 13, 14, 15]]"
       ]
      }
     ],
     "prompt_number": 1
    },
    {
     "cell_type": "code",
     "collapsed": false,
     "input": [
      "x = [5, 2, 1, -10, 3, 7]\n",
      "x.sort()\n",
      "x"
     ],
     "language": "python",
     "metadata": {},
     "outputs": [
      {
       "metadata": {},
       "output_type": "pyout",
       "prompt_number": 4,
       "text": [
        "[-10, 1, 2, 3, 5, 7]"
       ]
      }
     ],
     "prompt_number": 4
    },
    {
     "cell_type": "code",
     "collapsed": false,
     "input": [
      "x = [5, 2, 1, -10, 3, 7]\n",
      "s = sorted(x)\n",
      "print x\n",
      "s"
     ],
     "language": "python",
     "metadata": {},
     "outputs": [
      {
       "output_type": "stream",
       "stream": "stdout",
       "text": [
        "[5, 2, 1, -10, 3, 7]\n"
       ]
      },
      {
       "metadata": {},
       "output_type": "pyout",
       "prompt_number": 8,
       "text": [
        "[-10, 1, 2, 3, 5, 7]"
       ]
      }
     ],
     "prompt_number": 8
    },
    {
     "cell_type": "code",
     "collapsed": false,
     "input": [
      "# Problem 13: lensort()\n",
      "def lensort(lst):\n",
      "    lst.sort(key=lambda x: len(x))\n",
      "    return lst\n",
      "\n",
      "print lensort(['python', 'perl', 'java', 'c', 'haskell', 'ruby', 'raby'])"
     ],
     "language": "python",
     "metadata": {},
     "outputs": [
      {
       "output_type": "stream",
       "stream": "stdout",
       "text": [
        "['c', 'perl', 'java', 'ruby', 'raby', 'python', 'haskell']\n"
       ]
      }
     ],
     "prompt_number": 14
    },
    {
     "cell_type": "code",
     "collapsed": false,
     "input": [
      "def unique(lst, key):\n",
      "    res = []\n",
      "    for i in lst:\n",
      "        if key(i) not in res:\n",
      "            res.append(key(i))\n",
      "    return res\n",
      "unique([\"python\", \"java\", \"Python\", \"Java\"], key=lambda s: s.lower())"
     ],
     "language": "python",
     "metadata": {},
     "outputs": [
      {
       "metadata": {},
       "output_type": "pyout",
       "prompt_number": 18,
       "text": [
        "['python', 'java']"
       ]
      }
     ],
     "prompt_number": 18
    },
    {
     "cell_type": "code",
     "collapsed": false,
     "input": [
      "# Tuples\n",
      "a = (1, 2)\n",
      "a"
     ],
     "language": "python",
     "metadata": {},
     "outputs": [
      {
       "metadata": {},
       "output_type": "pyout",
       "prompt_number": 19,
       "text": [
        "(1, 2)"
       ]
      }
     ],
     "prompt_number": 19
    },
    {
     "cell_type": "code",
     "collapsed": false,
     "input": [
      "print a[1]\n",
      "x, y = a\n",
      "print x, y"
     ],
     "language": "python",
     "metadata": {},
     "outputs": [
      {
       "output_type": "stream",
       "stream": "stdout",
       "text": [
        "2\n",
        "1 2\n"
       ]
      }
     ],
     "prompt_number": 22
    },
    {
     "cell_type": "code",
     "collapsed": false,
     "input": [
      "a = (1,)\n",
      "print a\n",
      "# tuples are immutable so meaning no appends"
     ],
     "language": "python",
     "metadata": {},
     "outputs": [
      {
       "output_type": "stream",
       "stream": "stdout",
       "text": [
        "(1,)\n"
       ]
      }
     ],
     "prompt_number": 29
    },
    {
     "cell_type": "code",
     "collapsed": false,
     "input": [
      "a = (1, 2)\n",
      "b = (1, 2)\n",
      "c = (2, 1)\n",
      "print a == b\n",
      "print a == c"
     ],
     "language": "python",
     "metadata": {},
     "outputs": [
      {
       "output_type": "stream",
       "stream": "stdout",
       "text": [
        "True\n",
        "False\n"
       ]
      }
     ],
     "prompt_number": 30
    },
    {
     "cell_type": "code",
     "collapsed": false,
     "input": [
      "# SETS: unordered collection of unique elements\n",
      "a = {1, 2}\n",
      "b = {2, 1}\n",
      "print a == b"
     ],
     "language": "python",
     "metadata": {},
     "outputs": [
      {
       "output_type": "stream",
       "stream": "stdout",
       "text": [
        "True\n"
       ]
      }
     ],
     "prompt_number": 31
    },
    {
     "cell_type": "code",
     "collapsed": false,
     "input": [
      "# Strings\n",
      "\"hello world\".split()\n",
      "\"a,b,c\".split(',')"
     ],
     "language": "python",
     "metadata": {},
     "outputs": [
      {
       "metadata": {},
       "output_type": "pyout",
       "prompt_number": 32,
       "text": [
        "['a', 'b', 'c']"
       ]
      }
     ],
     "prompt_number": 32
    },
    {
     "cell_type": "code",
     "collapsed": false,
     "input": [
      "# sort the list by its extension\n",
      "def extsort(lst):\n",
      "    res = sorted(lst, key=lambda x: x.split('.')[-1])\n",
      "    return res\n",
      "x = ['a.c', 'a.py', 'b.py', 'bar.txt', 'foo.txt', 'x.c', 'abc']\n",
      "print \"Sorted %s\" % extsort(x)\n",
      "print x"
     ],
     "language": "python",
     "metadata": {},
     "outputs": [
      {
       "output_type": "stream",
       "stream": "stdout",
       "text": [
        "Sorted ['abc', 'a.c', 'x.c', 'a.py', 'b.py', 'bar.txt', 'foo.txt']\n",
        "['a.c', 'a.py', 'b.py', 'bar.txt', 'foo.txt', 'x.c', 'abc']\n"
       ]
      }
     ],
     "prompt_number": 42
    },
    {
     "cell_type": "code",
     "collapsed": false,
     "input": [
      "def reverse(filename):\n",
      "    return open(filename).readlines()[::-1]\n",
      "reverse('she.txt')"
     ],
     "language": "python",
     "metadata": {},
     "outputs": [
      {
       "metadata": {},
       "output_type": "pyout",
       "prompt_number": 44,
       "text": [
        "[\"I'm sure that the shells are seashore shells.\\n\",\n",
        " 'So if she sells seashells on the seashore,\\n',\n",
        " \"The shells that she sells are seashells I'm sure.\\n\",\n",
        " 'She sells seashells on the seashore;\\n']"
       ]
      }
     ],
     "prompt_number": 44
    },
    {
     "cell_type": "code",
     "collapsed": false,
     "input": [
      "# Problem 18\n",
      "for i in reverse('she.txt'):\n",
      "    print i"
     ],
     "language": "python",
     "metadata": {},
     "outputs": [
      {
       "output_type": "stream",
       "stream": "stdout",
       "text": [
        "I'm sure that the shells are seashore shells.\n",
        "\n",
        "So if she sells seashells on the seashore,\n",
        "\n",
        "The shells that she sells are seashells I'm sure.\n",
        "\n",
        "She sells seashells on the seashore;\n",
        "\n"
       ]
      }
     ],
     "prompt_number": 45
    },
    {
     "cell_type": "code",
     "collapsed": false,
     "input": [
      "# Problem 19: head and tail\n",
      "def head(filename):\n",
      "    return open(filename).readlines()[:11]\n",
      "def tail(filename):\n",
      "    return open(filename).readlines()[-10:]\n",
      "print head('she.txt')\n",
      "print tail('she.txt')"
     ],
     "language": "python",
     "metadata": {},
     "outputs": [
      {
       "output_type": "stream",
       "stream": "stdout",
       "text": [
        "['She sells seashells on the seashore;\\n', \"The shells that she sells are seashells I'm sure.\\n\", 'So if she sells seashells on the seashore,\\n', \"I'm sure that the shells are seashore shells.\\n\"]\n",
        "['She sells seashells on the seashore;\\n', \"The shells that she sells are seashells I'm sure.\\n\", 'So if she sells seashells on the seashore,\\n', \"I'm sure that the shells are seashore shells.\\n\"]\n"
       ]
      }
     ],
     "prompt_number": 46
    },
    {
     "cell_type": "code",
     "collapsed": false,
     "input": [
      "# Problem 20:\n",
      "def grep(filename, needle):\n",
      "    res = []\n",
      "    for line in open(filename).readlines():\n",
      "        if needle in line:\n",
      "            res.append(line)\n",
      "    return res\n",
      "grep('she.txt', 'if')"
     ],
     "language": "python",
     "metadata": {},
     "outputs": [
      {
       "metadata": {},
       "output_type": "pyout",
       "prompt_number": 49,
       "text": [
        "['So if she sells seashells on the seashore,\\n']"
       ]
      }
     ],
     "prompt_number": 49
    },
    {
     "cell_type": "code",
     "collapsed": false,
     "input": [
      "# Problem 21:\n",
      "def wrap(filename, width=30):\n",
      "    w = width+1\n",
      "    for line in open(filename).readlines():\n",
      "        tmp = line\n",
      "        while tmp:\n",
      "            print tmp[:w]\n",
      "            tmp = tmp[w:]\n",
      "wrap('she.txt', 30)"
     ],
     "language": "python",
     "metadata": {},
     "outputs": [
      {
       "output_type": "stream",
       "stream": "stdout",
       "text": [
        "She sells seashells on the seas\n",
        "hore;\n",
        "\n",
        "The shells that she sells are s\n",
        "eashells I'm sure.\n",
        "\n",
        "So if she sells seashells on th\n",
        "e seashore,\n",
        "\n",
        "I'm sure that the shells are se\n",
        "ashore shells.\n",
        "\n"
       ]
      }
     ],
     "prompt_number": 57
    },
    {
     "cell_type": "code",
     "collapsed": false,
     "input": [
      "x = \"this is a string\"\n",
      "y = x[3:]\n",
      "print y\n",
      "if []:\n",
      "    print x"
     ],
     "language": "python",
     "metadata": {},
     "outputs": [
      {
       "output_type": "stream",
       "stream": "stdout",
       "text": [
        "s is a string\n"
       ]
      }
     ],
     "prompt_number": 58
    },
    {
     "cell_type": "code",
     "collapsed": false,
     "input": [
      "# Problem 22\n",
      "def wordwrap(filename, width=30):\n",
      "    w = width + 1\n",
      "    for line in open(filename).readlines():\n",
      "        start = 0\n",
      "        words = line.split()\n",
      "        for i in range(1, len(words)):\n",
      "            joined = \" \".join(words[start:i+1])\n",
      "            if len(joined) > width:\n",
      "                print \" \".join(words[start: i])\n",
      "                start = i\n",
      "        print \" \".join(words[start:])\n",
      "wordwrap('she.txt', 30) "
     ],
     "language": "python",
     "metadata": {},
     "outputs": [
      {
       "output_type": "stream",
       "stream": "stdout",
       "text": [
        "She sells seashells on the\n",
        "seashore;\n",
        "The shells that she sells are\n",
        "seashells I'm sure.\n",
        "So if she sells seashells on\n",
        "the seashore,\n",
        "I'm sure that the shells are\n",
        "seashore shells.\n"
       ]
      }
     ],
     "prompt_number": 81
    },
    {
     "cell_type": "code",
     "collapsed": false,
     "input": [
      "def center_align(filename):\n",
      "    lines = open(filename).readlines()\n",
      "    max_len = len(sorted(lines, key=lambda x: len(x))[-1])\n",
      "    for line in lines:\n",
      "        spaces = (max_len - len(line)) // 2\n",
      "        print (\" \" * spaces) + line\n",
      "center_align('she.txt')"
     ],
     "language": "python",
     "metadata": {},
     "outputs": [
      {
       "output_type": "stream",
       "stream": "stdout",
       "text": [
        "      She sells seashells on the seashore;\n",
        "\n",
        "The shells that she sells are seashells I'm sure.\n",
        "\n",
        "   So if she sells seashells on the seashore,\n",
        "\n",
        "  I'm sure that the shells are seashore shells.\n",
        "\n"
       ]
      }
     ],
     "prompt_number": 86
    },
    {
     "cell_type": "code",
     "collapsed": false,
     "input": [
      "lst = range(10)\n",
      "[x*x for x in lst if x % 2 == 0]"
     ],
     "language": "python",
     "metadata": {},
     "outputs": [
      {
       "metadata": {},
       "output_type": "pyout",
       "prompt_number": 2,
       "text": [
        "[0, 4, 16, 36, 64]"
       ]
      }
     ],
     "prompt_number": 2
    },
    {
     "cell_type": "code",
     "collapsed": false,
     "input": [
      "a = range(10)\n",
      "b = range(10)\n",
      "[x+y for (x, y) in zip(a, b)]"
     ],
     "language": "python",
     "metadata": {},
     "outputs": [
      {
       "metadata": {},
       "output_type": "pyout",
       "prompt_number": 4,
       "text": [
        "[0, 2, 4, 6, 8, 10, 12, 14, 16, 18]"
       ]
      }
     ],
     "prompt_number": 4
    },
    {
     "cell_type": "code",
     "collapsed": false,
     "input": [
      "[(x, y) for x in range(5) for y in range(5)]"
     ],
     "language": "python",
     "metadata": {},
     "outputs": [
      {
       "metadata": {},
       "output_type": "pyout",
       "prompt_number": 5,
       "text": [
        "[(0, 0),\n",
        " (0, 1),\n",
        " (0, 2),\n",
        " (0, 3),\n",
        " (0, 4),\n",
        " (1, 0),\n",
        " (1, 1),\n",
        " (1, 2),\n",
        " (1, 3),\n",
        " (1, 4),\n",
        " (2, 0),\n",
        " (2, 1),\n",
        " (2, 2),\n",
        " (2, 3),\n",
        " (2, 4),\n",
        " (3, 0),\n",
        " (3, 1),\n",
        " (3, 2),\n",
        " (3, 3),\n",
        " (3, 4),\n",
        " (4, 0),\n",
        " (4, 1),\n",
        " (4, 2),\n",
        " (4, 3),\n",
        " (4, 4)]"
       ]
      }
     ],
     "prompt_number": 5
    },
    {
     "cell_type": "code",
     "collapsed": false,
     "input": [
      "g = [(x, y) for x in range(5) for y in range(5) if x % 2 == 0 and y % 2 == 1]\n",
      "g"
     ],
     "language": "python",
     "metadata": {},
     "outputs": [
      {
       "metadata": {},
       "output_type": "pyout",
       "prompt_number": 9,
       "text": [
        "[(0, 1), (0, 3), (2, 1), (2, 3), (4, 1), (4, 3)]"
       ]
      }
     ],
     "prompt_number": 9
    },
    {
     "cell_type": "code",
     "collapsed": false,
     "input": [
      "g.sort(key=lambda x: x[1])\n",
      "g"
     ],
     "language": "python",
     "metadata": {},
     "outputs": [
      {
       "metadata": {},
       "output_type": "pyout",
       "prompt_number": 13,
       "text": [
        "[(0, 1), (2, 1), (4, 1), (0, 3), (2, 3), (4, 3)]"
       ]
      }
     ],
     "prompt_number": 13
    },
    {
     "cell_type": "code",
     "collapsed": false,
     "input": [
      "# Problem 24\n",
      "def zip(a, b):\n",
      "    return [(a[i], b[i]) for i in range(min(len(a), len(b)))]\n",
      "zip(range(10), range(5))"
     ],
     "language": "python",
     "metadata": {},
     "outputs": [
      {
       "metadata": {},
       "output_type": "pyout",
       "prompt_number": 16,
       "text": [
        "[(0, 0), (1, 1), (2, 2), (3, 3), (4, 4)]"
       ]
      }
     ],
     "prompt_number": 16
    },
    {
     "cell_type": "code",
     "collapsed": false,
     "input": [
      "# Problem 25\n",
      "def map(fn, lst):\n",
      "    return [fn(x) for x in lst]\n",
      "\n",
      "def square(x): return x*x\n",
      "map(square, range(10))"
     ],
     "language": "python",
     "metadata": {},
     "outputs": [
      {
       "metadata": {},
       "output_type": "pyout",
       "prompt_number": 19,
       "text": [
        "[0, 1, 4, 9, 16, 25, 36, 49, 64, 81]"
       ]
      }
     ],
     "prompt_number": 19
    },
    {
     "cell_type": "code",
     "collapsed": false,
     "input": [
      "#Problem 26\n",
      "def even(x): return x % 2 == 0\n",
      "\n",
      "def filter(fn, lst):\n",
      "    return [x for x in lst if fn(x)]\n",
      "\n",
      "filter(even, range(10))"
     ],
     "language": "python",
     "metadata": {},
     "outputs": [
      {
       "metadata": {},
       "output_type": "pyout",
       "prompt_number": 22,
       "text": [
        "[0, 2, 4, 6, 8]"
       ]
      }
     ],
     "prompt_number": 22
    },
    {
     "cell_type": "code",
     "collapsed": false,
     "input": [
      "# Problem 27\n",
      "def triplets(n):\n",
      "    return [(a, b, a+b) for a in range(1, n) for b in range(a, n) if a+b < n]\n",
      "\n",
      "triplets(5)"
     ],
     "language": "python",
     "metadata": {},
     "outputs": [
      {
       "metadata": {},
       "output_type": "pyout",
       "prompt_number": 34,
       "text": [
        "[(1, 1, 2), (1, 2, 3), (1, 3, 4), (2, 2, 4)]"
       ]
      }
     ],
     "prompt_number": 34
    },
    {
     "cell_type": "code",
     "collapsed": false,
     "input": [
      "# Problem 28\n",
      "def enumerate(lst):\n",
      "    return [(i, lst[i]) for i in range(len(lst))]\n",
      "enumerate([\"a\", \"b\", \"c\"])"
     ],
     "language": "python",
     "metadata": {},
     "outputs": [
      {
       "metadata": {},
       "output_type": "pyout",
       "prompt_number": 37,
       "text": [
        "[(0, 'a'), (1, 'b'), (2, 'c')]"
       ]
      }
     ],
     "prompt_number": 37
    },
    {
     "cell_type": "code",
     "collapsed": false,
     "input": [
      "# Problem 29\n",
      "def array(w, h):\n",
      "    return [[None for i in range(w)] for x in range(h)]\n",
      "array(3, 2)"
     ],
     "language": "python",
     "metadata": {},
     "outputs": [
      {
       "metadata": {},
       "output_type": "pyout",
       "prompt_number": 39,
       "text": [
        "[[None, None, None], [None, None, None]]"
       ]
      }
     ],
     "prompt_number": 39
    },
    {
     "cell_type": "code",
     "collapsed": false,
     "input": [
      "# Problem 30\n",
      "def parse_csv(filename):\n",
      "    return [line.strip().split(',') for line in open(filename).readlines()]\n",
      "\n",
      "parse_csv('a.csv')"
     ],
     "language": "python",
     "metadata": {},
     "outputs": [
      {
       "metadata": {},
       "output_type": "pyout",
       "prompt_number": 43,
       "text": [
        "[['a', 'b', 'c'], ['1', '2', '3'], ['2', '3', '4'], ['3', '4', '5']]"
       ]
      }
     ],
     "prompt_number": 43
    },
    {
     "cell_type": "code",
     "collapsed": false,
     "input": [
      "# Problem 31\n",
      "def parse(filename, delimiter, comment):\n",
      "    return [line.strip().split(delimiter) for line in open(filename).readlines() if line[0] != comment]\n",
      "parse(\"b.csv\", '!', '#')"
     ],
     "language": "python",
     "metadata": {},
     "outputs": [
      {
       "metadata": {},
       "output_type": "pyout",
       "prompt_number": 45,
       "text": [
        "[['a', 'b', 'c'], ['1', '2', '3'], ['2', '3', '4'], ['3', '4', '5']]"
       ]
      }
     ],
     "prompt_number": 45
    },
    {
     "cell_type": "code",
     "collapsed": false,
     "input": [
      "import string\n",
      "def mutate(val):\n",
      "    letters = string.ascii_lowercase\n",
      "    ins = [val[:i] + c + val[i:] for i in range(len(val)) for c in letters]\n",
      "    dels = [val[:i] + val[i+1:] for i in range(len(val))]\n",
      "    reps = [val[:i] + c + val[i+1:] for i in range(len(val)) for c in letters]\n",
      "    swaps = [val[:i] + val[i+1] + val[i] + val[i+2:] for i in range(len(val)-1)]\n",
      "    return ins + dels + reps + swaps\n",
      "words = mutate('hello')\n",
      "print 'helo' in words\n",
      "print 'cello' in words\n",
      "print 'helol' in words\n",
      "print 'hulel' in words"
     ],
     "language": "python",
     "metadata": {},
     "outputs": [
      {
       "output_type": "stream",
       "stream": "stdout",
       "text": [
        "True\n",
        "True\n",
        "True\n",
        "False\n"
       ]
      }
     ],
     "prompt_number": 78
    },
    {
     "cell_type": "code",
     "collapsed": false,
     "input": [
      "def nearly_equal(w1, w2):\n",
      "    words = mutate(w1)\n",
      "    return w2 in words\n",
      "print nearly_equal('python', 'perl')\n",
      "print nearly_equal('perl', 'pearl')\n",
      "print nearly_equal('python', 'jython')\n"
     ],
     "language": "python",
     "metadata": {},
     "outputs": [
      {
       "output_type": "stream",
       "stream": "stdout",
       "text": [
        "False\n",
        "True\n"
       ]
      }
     ],
     "prompt_number": 82
    },
    {
     "cell_type": "code",
     "collapsed": false,
     "input": [
      "# Dictionary ----------------------------------------------------------------------\n",
      "x = {\"a\": 1, \"b\": 2, \"c\" : 3}\n",
      "x"
     ],
     "language": "python",
     "metadata": {},
     "outputs": [
      {
       "metadata": {},
       "output_type": "pyout",
       "prompt_number": 1,
       "text": [
        "{'a': 1, 'b': 2, 'c': 3}"
       ]
      }
     ],
     "prompt_number": 1
    },
    {
     "cell_type": "code",
     "collapsed": false,
     "input": [
      "y = [1, 2, 2, 1, 1, 2, 3, 4, 5, 3, 2, 2, 8, 9]\n",
      "dct = {}\n",
      "for v in y:\n",
      "    # dct[v] = dct[v] + 1 if (dct.has_key(v)) else 1\n",
      "    dct[v] = dct.get(v, 0) + 1\n",
      "dct.setdefault('x', 10)\n",
      "print dct\n",
      "print dct.keys()\n",
      "print dct.values()\n",
      "print dct.items()\n",
      "sorted(dct.items(), key=lambda x: x[1])"
     ],
     "language": "python",
     "metadata": {},
     "outputs": [
      {
       "output_type": "stream",
       "stream": "stdout",
       "text": [
        "{1: 3, 2: 5, 3: 2, 4: 1, 5: 1, 8: 1, 9: 1, 'x': 10}\n",
        "[1, 2, 3, 4, 5, 8, 9, 'x']\n",
        "[3, 5, 2, 1, 1, 1, 1, 10]\n",
        "[(1, 3), (2, 5), (3, 2), (4, 1), (5, 1), (8, 1), (9, 1), ('x', 10)]\n"
       ]
      },
      {
       "metadata": {},
       "output_type": "pyout",
       "prompt_number": 14,
       "text": [
        "[(4, 1), (5, 1), (8, 1), (9, 1), (3, 2), (1, 3), (2, 5), ('x', 10)]"
       ]
      }
     ],
     "prompt_number": 14
    },
    {
     "cell_type": "code",
     "collapsed": false,
     "input": [
      "# Using dictionary in string interpolation\n",
      "\"Chapter %(chapter)d: %(name)s\" %  { 'chapter': 10, 'name': 'Sample Chapter' }"
     ],
     "language": "python",
     "metadata": {},
     "outputs": [
      {
       "metadata": {},
       "output_type": "pyout",
       "prompt_number": 7,
       "text": [
        "'Chapter 10: Sample Chapter'"
       ]
      }
     ],
     "prompt_number": 7
    },
    {
     "cell_type": "code",
     "collapsed": false,
     "input": [
      "# Problem 34:\n",
      "def word_frequency(words):\n",
      "    res = {}\n",
      "    for w in words:\n",
      "        res[w] = res.get(w, 0) + 1\n",
      "    return res\n",
      "\n",
      "def read_words(filename):\n",
      "    return open(filename).read().split()\n",
      "\n",
      "filename = 'she.txt'\n",
      "frequency = word_frequency(read_words(filename))\n",
      "print frequency\n",
      "for word, count in sorted(frequency.items(), key=lambda x : x[1], reverse=True):\n",
      "    print word, count\n"
     ],
     "language": "python",
     "metadata": {},
     "outputs": [
      {
       "output_type": "stream",
       "stream": "stdout",
       "text": [
        "{'are': 2, 'on': 2, 'sure': 1, 'seashore;': 1, 'shells': 2, 'So': 1, 'seashore': 1, 'shells.': 1, 'that': 2, 'The': 1, 'seashore,': 1, \"I'm\": 2, 'She': 1, 'seashells': 3, 'sells': 3, 'if': 1, 'the': 3, 'sure.': 1, 'she': 2}\n",
        "seashells 3\n",
        "sells 3\n",
        "the 3\n",
        "are 2\n",
        "on 2\n",
        "shells 2\n",
        "that 2\n",
        "I'm 2\n",
        "she 2\n",
        "sure 1\n",
        "seashore; 1\n",
        "So 1\n",
        "seashore 1\n",
        "shells. 1\n",
        "The 1\n",
        "seashore, 1\n",
        "She 1\n",
        "if 1\n",
        "sure. 1\n"
       ]
      }
     ],
     "prompt_number": 21
    },
    {
     "cell_type": "code",
     "collapsed": false,
     "input": [
      "def char_frequency(filename):\n",
      "    res = {}\n",
      "    for word in open(filename).read().split():\n",
      "        for c in list(word):\n",
      "            c = c.lower()\n",
      "            res[c] = res.get(c, 0) + 1\n",
      "    return res\n",
      "char_frequency('she.txt')"
     ],
     "language": "python",
     "metadata": {},
     "outputs": [
      {
       "metadata": {},
       "output_type": "pyout",
       "prompt_number": 34,
       "text": [
        "{\"'\": 2,\n",
        " ',': 1,\n",
        " '.': 2,\n",
        " ';': 1,\n",
        " 'a': 10,\n",
        " 'e': 29,\n",
        " 'f': 1,\n",
        " 'h': 18,\n",
        " 'i': 3,\n",
        " 'l': 18,\n",
        " 'm': 2,\n",
        " 'n': 2,\n",
        " 'o': 6,\n",
        " 'r': 7,\n",
        " 's': 33,\n",
        " 't': 8,\n",
        " 'u': 2}"
       ]
      }
     ],
     "prompt_number": 34
    },
    {
     "cell_type": "code",
     "collapsed": false,
     "input": [
      "# Problem 36\n",
      "def char_frequency(word):\n",
      "    res = {}\n",
      "    for c in word:\n",
      "        c = c.lower()\n",
      "        res[c] = res.get(c, 0) + 1\n",
      "    return res.items()\n",
      "\n",
      "def anagrams(lst):\n",
      "    res = []\n",
      "    for word in lst:\n",
      "        flag = 0\n",
      "        cf = char_frequency(word)\n",
      "        for anag_lst in res:\n",
      "            if char_frequency(anag_lst[0]) == cf:\n",
      "                flag = 1\n",
      "                anag_lst.append(word)\n",
      "        if flag == 0:\n",
      "            res.append([word]) \n",
      "            \n",
      "    return res\n",
      "\n",
      "anagrams(['eat', 'ate', 'done', 'tea', 'soup', 'node'])"
     ],
     "language": "python",
     "metadata": {},
     "outputs": [
      {
       "metadata": {},
       "output_type": "pyout",
       "prompt_number": 18,
       "text": [
        "[['eat', 'ate', 'tea'], ['done', 'node'], ['soup']]"
       ]
      }
     ],
     "prompt_number": 18
    },
    {
     "cell_type": "code",
     "collapsed": false,
     "input": [
      "# Problem 37\n",
      "def valuesort(dct):\n",
      "    return [y for x, y in sorted(dct.items(), key=lambda x : x[0])]\n",
      "valuesort({'x': 1, 'y': 2, 'a': 3})"
     ],
     "language": "python",
     "metadata": {},
     "outputs": [
      {
       "metadata": {},
       "output_type": "pyout",
       "prompt_number": 39,
       "text": [
        "[3, 1, 2]"
       ]
      }
     ],
     "prompt_number": 39
    },
    {
     "cell_type": "code",
     "collapsed": false,
     "input": [
      "def invertdict(dct):\n",
      "    return {y : x for x, y in dct.items()}\n",
      "\n",
      "invertdict({'x': 1, 'y': 2, 'z': 3})"
     ],
     "language": "python",
     "metadata": {},
     "outputs": [
      {
       "metadata": {},
       "output_type": "pyout",
       "prompt_number": 43,
       "text": [
        "{1: 'x', 2: 'y', 3: 'z'}"
       ]
      }
     ],
     "prompt_number": 43
    },
    {
     "cell_type": "code",
     "collapsed": false,
     "input": [
      "x = [{'x': 2, 'y': 1}]\n",
      "y = {'y': 1, 'x': 2}\n",
      "z = {'y': 1}\n",
      "y.get('y', '')\n",
      "print y in x\n",
      "print z in x"
     ],
     "language": "python",
     "metadata": {},
     "outputs": [
      {
       "output_type": "stream",
       "stream": "stdout",
       "text": [
        "True\n",
        "False\n"
       ]
      }
     ],
     "prompt_number": 2
    },
    {
     "cell_type": "code",
     "collapsed": false,
     "input": [
      "dct = {}"
     ],
     "language": "python",
     "metadata": {},
     "outputs": [
      {
       "ename": "TypeError",
       "evalue": "unhashable type: 'dict'",
       "output_type": "pyerr",
       "traceback": [
        "\u001b[0;31m---------------------------------------------------------------------------\u001b[0m\n\u001b[0;31mTypeError\u001b[0m                                 Traceback (most recent call last)",
        "\u001b[0;32m<ipython-input-15-47d8f3fb50da>\u001b[0m in \u001b[0;36m<module>\u001b[0;34m()\u001b[0m\n\u001b[1;32m      1\u001b[0m \u001b[0mdct\u001b[0m \u001b[0;34m=\u001b[0m \u001b[0;34m{\u001b[0m\u001b[0;34m}\u001b[0m\u001b[0;34m\u001b[0m\u001b[0m\n\u001b[0;32m----> 2\u001b[0;31m \u001b[0mdct\u001b[0m\u001b[0;34m[\u001b[0m\u001b[0;34m{\u001b[0m\u001b[0;34m'a'\u001b[0m \u001b[0;34m:\u001b[0m \u001b[0;36m1\u001b[0m\u001b[0;34m}\u001b[0m\u001b[0;34m]\u001b[0m \u001b[0;34m=\u001b[0m \u001b[0;36m10\u001b[0m\u001b[0;34m\u001b[0m\u001b[0m\n\u001b[0m\u001b[1;32m      3\u001b[0m \u001b[0mdct\u001b[0m\u001b[0;34m\u001b[0m\u001b[0m\n",
        "\u001b[0;31mTypeError\u001b[0m: unhashable type: 'dict'"
       ]
      }
     ],
     "prompt_number": 15
    },
    {
     "cell_type": "code",
     "collapsed": false,
     "input": [],
     "language": "python",
     "metadata": {},
     "outputs": []
    }
   ],
   "metadata": {}
  }
 ]
}