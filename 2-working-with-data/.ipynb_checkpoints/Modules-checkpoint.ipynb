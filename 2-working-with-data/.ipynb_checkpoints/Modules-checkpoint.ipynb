{
 "metadata": {
  "name": "",
  "signature": "sha256:9e9ee6f79ebf79fa0dda07fa537cd5ee7ae978765402483feaec1ce33a49637a"
 },
 "nbformat": 3,
 "nbformat_minor": 0,
 "worksheets": []
}